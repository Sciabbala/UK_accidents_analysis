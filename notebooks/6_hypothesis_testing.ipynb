{
 "cells": [
  {
   "cell_type": "markdown",
   "metadata": {},
   "source": [
    "## Hypothesis testing"
   ]
  },
  {
   "cell_type": "markdown",
   "metadata": {},
   "source": [
    "- During the night the accidents tend to be more severe.\n",
    "- During the weekend (Friday - Sunday) the number of accidents increases.\n",
    "- Most dangerous hours to drive\n",
    "- Worse road condition/type or weather\n",
    "- Hazards 1 if there are 0 if there are not"
   ]
  },
  {
   "cell_type": "code",
   "execution_count": 36,
   "metadata": {},
   "outputs": [],
   "source": [
    "import pandas as pd\n",
    "import numpy as np\n",
    "import matplotlib.pyplot as plt\n",
    "import seaborn as sns\n",
    "from scipy import stats"
   ]
  },
  {
   "cell_type": "code",
   "execution_count": 4,
   "metadata": {},
   "outputs": [
    {
     "name": "stderr",
     "output_type": "stream",
     "text": [
      "/home/linuxbrew/.linuxbrew/opt/python/lib/python3.7/site-packages/numpy/lib/arraysetops.py:569: FutureWarning: elementwise comparison failed; returning scalar instead, but in the future will perform elementwise comparison\n",
      "  mask |= (ar1 == a)\n"
     ]
    }
   ],
   "source": [
    "df = pd.read_csv('../data/clean_data.csv', index_col=0)"
   ]
  },
  {
   "cell_type": "code",
   "execution_count": 6,
   "metadata": {},
   "outputs": [
    {
     "data": {
      "text/html": [
       "<div>\n",
       "<style scoped>\n",
       "    .dataframe tbody tr th:only-of-type {\n",
       "        vertical-align: middle;\n",
       "    }\n",
       "\n",
       "    .dataframe tbody tr th {\n",
       "        vertical-align: top;\n",
       "    }\n",
       "\n",
       "    .dataframe thead th {\n",
       "        text-align: right;\n",
       "    }\n",
       "</style>\n",
       "<table border=\"1\" class=\"dataframe\">\n",
       "  <thead>\n",
       "    <tr style=\"text-align: right;\">\n",
       "      <th></th>\n",
       "      <th>lon</th>\n",
       "      <th>lat</th>\n",
       "      <th>severity</th>\n",
       "      <th>num_vehicles</th>\n",
       "      <th>num_casualties</th>\n",
       "      <th>date</th>\n",
       "      <th>doy</th>\n",
       "      <th>time</th>\n",
       "      <th>road_type</th>\n",
       "      <th>Speed_limit</th>\n",
       "      <th>ped_crossing</th>\n",
       "      <th>light_cond</th>\n",
       "      <th>weather</th>\n",
       "      <th>road_cond</th>\n",
       "      <th>hazards</th>\n",
       "      <th>urb_or_rur</th>\n",
       "      <th>police_presence</th>\n",
       "      <th>year</th>\n",
       "    </tr>\n",
       "  </thead>\n",
       "  <tbody>\n",
       "    <tr>\n",
       "      <th>0</th>\n",
       "      <td>-0.169101</td>\n",
       "      <td>51.493429</td>\n",
       "      <td>3</td>\n",
       "      <td>2</td>\n",
       "      <td>1</td>\n",
       "      <td>2012-01-19</td>\n",
       "      <td>5</td>\n",
       "      <td>21</td>\n",
       "      <td>Single carriageway</td>\n",
       "      <td>30</td>\n",
       "      <td>Pedestrian phase at traffic signal junction</td>\n",
       "      <td>Darkness: Street lights present and lit</td>\n",
       "      <td>Fine without high winds</td>\n",
       "      <td>Dry</td>\n",
       "      <td>None</td>\n",
       "      <td>1</td>\n",
       "      <td>Yes</td>\n",
       "      <td>2012</td>\n",
       "    </tr>\n",
       "    <tr>\n",
       "      <th>1</th>\n",
       "      <td>-0.200838</td>\n",
       "      <td>51.517931</td>\n",
       "      <td>3</td>\n",
       "      <td>2</td>\n",
       "      <td>1</td>\n",
       "      <td>2012-04-01</td>\n",
       "      <td>4</td>\n",
       "      <td>17</td>\n",
       "      <td>Single carriageway</td>\n",
       "      <td>30</td>\n",
       "      <td>No physical crossing within 50 meters</td>\n",
       "      <td>Darkness: Street lights present and lit</td>\n",
       "      <td>Fine without high winds</td>\n",
       "      <td>Dry</td>\n",
       "      <td>None</td>\n",
       "      <td>1</td>\n",
       "      <td>Yes</td>\n",
       "      <td>2012</td>\n",
       "    </tr>\n",
       "    <tr>\n",
       "      <th>2</th>\n",
       "      <td>-0.188636</td>\n",
       "      <td>51.487618</td>\n",
       "      <td>3</td>\n",
       "      <td>2</td>\n",
       "      <td>1</td>\n",
       "      <td>2012-10-01</td>\n",
       "      <td>3</td>\n",
       "      <td>10</td>\n",
       "      <td>One way street</td>\n",
       "      <td>30</td>\n",
       "      <td>non-junction pedestrian crossing</td>\n",
       "      <td>Daylight: Street light present</td>\n",
       "      <td>Fine without high winds</td>\n",
       "      <td>Dry</td>\n",
       "      <td>None</td>\n",
       "      <td>1</td>\n",
       "      <td>Yes</td>\n",
       "      <td>2012</td>\n",
       "    </tr>\n",
       "    <tr>\n",
       "      <th>3</th>\n",
       "      <td>-0.200259</td>\n",
       "      <td>51.514325</td>\n",
       "      <td>3</td>\n",
       "      <td>1</td>\n",
       "      <td>1</td>\n",
       "      <td>2012-01-18</td>\n",
       "      <td>4</td>\n",
       "      <td>12</td>\n",
       "      <td>Single carriageway</td>\n",
       "      <td>30</td>\n",
       "      <td>No physical crossing within 50 meters</td>\n",
       "      <td>Daylight: Street light present</td>\n",
       "      <td>Fine without high winds</td>\n",
       "      <td>Dry</td>\n",
       "      <td>None</td>\n",
       "      <td>1</td>\n",
       "      <td>Yes</td>\n",
       "      <td>2012</td>\n",
       "    </tr>\n",
       "    <tr>\n",
       "      <th>4</th>\n",
       "      <td>-0.183773</td>\n",
       "      <td>51.497614</td>\n",
       "      <td>3</td>\n",
       "      <td>1</td>\n",
       "      <td>1</td>\n",
       "      <td>2012-01-17</td>\n",
       "      <td>3</td>\n",
       "      <td>20</td>\n",
       "      <td>Single carriageway</td>\n",
       "      <td>30</td>\n",
       "      <td>No physical crossing within 50 meters</td>\n",
       "      <td>Darkness: Street lights present and lit</td>\n",
       "      <td>Fine without high winds</td>\n",
       "      <td>Dry</td>\n",
       "      <td>None</td>\n",
       "      <td>1</td>\n",
       "      <td>Yes</td>\n",
       "      <td>2012</td>\n",
       "    </tr>\n",
       "  </tbody>\n",
       "</table>\n",
       "</div>"
      ],
      "text/plain": [
       "        lon        lat  severity  num_vehicles  num_casualties        date  \\\n",
       "0 -0.169101  51.493429         3             2               1  2012-01-19   \n",
       "1 -0.200838  51.517931         3             2               1  2012-04-01   \n",
       "2 -0.188636  51.487618         3             2               1  2012-10-01   \n",
       "3 -0.200259  51.514325         3             1               1  2012-01-18   \n",
       "4 -0.183773  51.497614         3             1               1  2012-01-17   \n",
       "\n",
       "   doy  time           road_type  Speed_limit  \\\n",
       "0    5    21  Single carriageway           30   \n",
       "1    4    17  Single carriageway           30   \n",
       "2    3    10      One way street           30   \n",
       "3    4    12  Single carriageway           30   \n",
       "4    3    20  Single carriageway           30   \n",
       "\n",
       "                                  ped_crossing  \\\n",
       "0  Pedestrian phase at traffic signal junction   \n",
       "1        No physical crossing within 50 meters   \n",
       "2             non-junction pedestrian crossing   \n",
       "3        No physical crossing within 50 meters   \n",
       "4        No physical crossing within 50 meters   \n",
       "\n",
       "                                light_cond                  weather road_cond  \\\n",
       "0  Darkness: Street lights present and lit  Fine without high winds       Dry   \n",
       "1  Darkness: Street lights present and lit  Fine without high winds       Dry   \n",
       "2           Daylight: Street light present  Fine without high winds       Dry   \n",
       "3           Daylight: Street light present  Fine without high winds       Dry   \n",
       "4  Darkness: Street lights present and lit  Fine without high winds       Dry   \n",
       "\n",
       "  hazards  urb_or_rur police_presence  year  \n",
       "0    None           1             Yes  2012  \n",
       "1    None           1             Yes  2012  \n",
       "2    None           1             Yes  2012  \n",
       "3    None           1             Yes  2012  \n",
       "4    None           1             Yes  2012  "
      ]
     },
     "execution_count": 6,
     "metadata": {},
     "output_type": "execute_result"
    }
   ],
   "source": [
    "df.head()"
   ]
  },
  {
   "cell_type": "markdown",
   "metadata": {},
   "source": [
    "Creating a column that tells if an accident happened during the night (22-6) or during the day (7-21)"
   ]
  },
  {
   "cell_type": "code",
   "execution_count": 8,
   "metadata": {},
   "outputs": [],
   "source": [
    "df['night'] = np.where((df['time'] >= 7) & (df['time'] <= 22), 0, 1)"
   ]
  },
  {
   "cell_type": "markdown",
   "metadata": {},
   "source": [
    "Same thing for the weekend days (Fri-Sun)."
   ]
  },
  {
   "cell_type": "code",
   "execution_count": 9,
   "metadata": {},
   "outputs": [],
   "source": [
    "df['weekend'] = np.where((df.doy == 6) | (df.doy == 7) | (df.doy == 1), 1, 0)"
   ]
  },
  {
   "cell_type": "code",
   "execution_count": 10,
   "metadata": {},
   "outputs": [],
   "source": [
    "df['night_weekend'] = np.where((df.night == 1) & (df.weekend == 1), 1, 0)"
   ]
  },
  {
   "cell_type": "code",
   "execution_count": 16,
   "metadata": {},
   "outputs": [
    {
     "data": {
      "text/plain": [
       "<matplotlib.axes._subplots.AxesSubplot at 0x7fca8f41a0f0>"
      ]
     },
     "execution_count": 16,
     "metadata": {},
     "output_type": "execute_result"
    },
    {
     "data": {
      "image/png": "[encoded data removed]",
      "text/plain": [
       "<Figure size 1440x1080 with 1 Axes>"
      ]
     },
     "metadata": {
      "needs_background": "light"
     },
     "output_type": "display_data"
    }
   ],
   "source": [
    "plt.figure(figsize=(20,15))\n",
    "sns.barplot(df.groupby(['night_weekend', 'severity']).count().index, \n",
    "            df.groupby(['night_weekend', 'severity']).count()['lon'])"
   ]
  },
  {
   "cell_type": "markdown",
   "metadata": {},
   "source": [
    "2-bar plot with percentages of fatal accidents over total accidents during night_weekend and not night_weekend"
   ]
  },
  {
   "cell_type": "code",
   "execution_count": null,
   "metadata": {},
   "outputs": [],
   "source": [
    "sns.barplot(df.groupby(['night_weekend', 'severity']).count().index, \n",
    "            df.groupby(['night_weekend', 'severity']).count()['lon'])"
   ]
  },
  {
   "cell_type": "code",
   "execution_count": 31,
   "metadata": {},
   "outputs": [],
   "source": [
    "perc_fatal_night_weekend = df[df.night_weekend == 1].groupby(['severity']).count()['lon'][1]/sum(df[df.night_weekend == 1].groupby(['severity']).count()['lon'])"
   ]
  },
  {
   "cell_type": "code",
   "execution_count": 32,
   "metadata": {},
   "outputs": [],
   "source": [
    "perc_fatal_rest_of_week = df[df.night_weekend == 0].groupby(['severity']).count()['lon'][1]/sum(df[df.night_weekend == 0].groupby(['severity']).count()['lon'])"
   ]
  },
  {
   "cell_type": "code",
   "execution_count": 33,
   "metadata": {},
   "outputs": [
    {
     "data": {
      "text/plain": [
       "<matplotlib.axes._subplots.AxesSubplot at 0x7fca8e7849e8>"
      ]
     },
     "execution_count": 33,
     "metadata": {},
     "output_type": "execute_result"
    },
    {
     "data": {
      "image/png": "[encoded data removed]",
      "text/plain": [
       "<Figure size 432x288 with 1 Axes>"
      ]
     },
     "metadata": {
      "needs_background": "light"
     },
     "output_type": "display_data"
    }
   ],
   "source": [
    "sns.barplot(['night_weekend', 'rest_of_week'], [perc_fata_night_weekend, perc_fatal_rest_of_week])"
   ]
  },
  {
   "cell_type": "markdown",
   "metadata": {},
   "source": [
    "Applying chi-squared test to check for independency."
   ]
  },
  {
   "cell_type": "code",
   "execution_count": 73,
   "metadata": {},
   "outputs": [],
   "source": [
    "cont_table = pd.crosstab(df.night_weekend, df.severity)"
   ]
  },
  {
   "cell_type": "code",
   "execution_count": 74,
   "metadata": {},
   "outputs": [
    {
     "data": {
      "text/html": [
       "<div>\n",
       "<style scoped>\n",
       "    .dataframe tbody tr th:only-of-type {\n",
       "        vertical-align: middle;\n",
       "    }\n",
       "\n",
       "    .dataframe tbody tr th {\n",
       "        vertical-align: top;\n",
       "    }\n",
       "\n",
       "    .dataframe thead th {\n",
       "        text-align: right;\n",
       "    }\n",
       "</style>\n",
       "<table border=\"1\" class=\"dataframe\">\n",
       "  <thead>\n",
       "    <tr style=\"text-align: right;\">\n",
       "      <th>severity</th>\n",
       "      <th>1</th>\n",
       "      <th>2</th>\n",
       "      <th>3</th>\n",
       "    </tr>\n",
       "    <tr>\n",
       "      <th>night_weekend</th>\n",
       "      <th></th>\n",
       "      <th></th>\n",
       "      <th></th>\n",
       "    </tr>\n",
       "  </thead>\n",
       "  <tbody>\n",
       "    <tr>\n",
       "      <th>0</th>\n",
       "      <td>16838</td>\n",
       "      <td>188293</td>\n",
       "      <td>1211778</td>\n",
       "    </tr>\n",
       "    <tr>\n",
       "      <th>1</th>\n",
       "      <td>2577</td>\n",
       "      <td>15825</td>\n",
       "      <td>64162</td>\n",
       "    </tr>\n",
       "  </tbody>\n",
       "</table>\n",
       "</div>"
      ],
      "text/plain": [
       "severity           1       2        3\n",
       "night_weekend                        \n",
       "0              16838  188293  1211778\n",
       "1               2577   15825    64162"
      ]
     },
     "execution_count": 74,
     "metadata": {},
     "output_type": "execute_result"
    }
   ],
   "source": [
    "cont_table"
   ]
  },
  {
   "cell_type": "code",
   "execution_count": 75,
   "metadata": {},
   "outputs": [],
   "source": [
    "chi2_test = stats.chi2_contingency(cont_table)"
   ]
  },
  {
   "cell_type": "code",
   "execution_count": 77,
   "metadata": {},
   "outputs": [
    {
     "data": {
      "text/plain": [
       "(0.0, array([ 1069.02895884, 11239.1477219 , 70255.82331926]))"
      ]
     },
     "execution_count": 77,
     "metadata": {},
     "output_type": "execute_result"
    }
   ],
   "source": [
    "chi2_test[1], chi2_test[3][1]"
   ]
  },
  {
   "cell_type": "markdown",
   "metadata": {},
   "source": [
    "The p-value for the chi-squared test is 0 and therefore we can reject the null hypothesis that the different categories in our contigency table are indepedent. This means that the severity of an accident is in fact influenced by the fact that it happens on weekend nights."
   ]
  },
  {
   "cell_type": "code",
   "execution_count": null,
   "metadata": {},
   "outputs": [],
   "source": []
  }
 ],
 "metadata": {
  "kernelspec": {
   "display_name": "Python 3",
   "language": "python",
   "name": "python3"
  },
  "language_info": {
   "codemirror_mode": {
    "name": "ipython",
    "version": 3
   },
   "file_extension": ".py",
   "mimetype": "text/x-python",
   "name": "python",
   "nbconvert_exporter": "python",
   "pygments_lexer": "ipython3",
   "version": "3.7.3"
  }
 },
 "nbformat": 4,
 "nbformat_minor": 2
}
