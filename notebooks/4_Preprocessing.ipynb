{
 "cells": [
  {
   "cell_type": "markdown",
   "metadata": {},
   "source": [
    "# Preprocessing\n",
    "Preprocessing is the previous step to Machine Learning, it consists on preparing the data to optimize the model algorithm. We will follow these steps:\n",
    "- **Get dummy variables:** categorical values need to be separed in boolean columns.\n",
    "- **Rescaling:** normalization of the numerical values in order to not imbalance the algorithm.\n",
    "\n",
    "## Get dummy variables"
   ]
  },
  {
   "cell_type": "code",
   "execution_count": 1,
   "metadata": {},
   "outputs": [],
   "source": [
    "# importing necessary libraries\n",
    "import pandas as pd\n",
    "import numpy as np"
   ]
  },
  {
   "cell_type": "code",
   "execution_count": 2,
   "metadata": {},
   "outputs": [
    {
     "name": "stderr",
     "output_type": "stream",
     "text": [
      "/home/linuxbrew/.linuxbrew/opt/python/lib/python3.7/site-packages/numpy/lib/arraysetops.py:569: FutureWarning: elementwise comparison failed; returning scalar instead, but in the future will perform elementwise comparison\n",
      "  mask |= (ar1 == a)\n"
     ]
    }
   ],
   "source": [
    "# importing the data\n",
    "df = pd.read_csv('../data/clean_data.csv', index_col=0)"
   ]
  },
  {
   "cell_type": "code",
   "execution_count": 3,
   "metadata": {},
   "outputs": [
    {
     "data": {
      "text/html": [
       "<div>\n",
       "<style scoped>\n",
       "    .dataframe tbody tr th:only-of-type {\n",
       "        vertical-align: middle;\n",
       "    }\n",
       "\n",
       "    .dataframe tbody tr th {\n",
       "        vertical-align: top;\n",
       "    }\n",
       "\n",
       "    .dataframe thead th {\n",
       "        text-align: right;\n",
       "    }\n",
       "</style>\n",
       "<table border=\"1\" class=\"dataframe\">\n",
       "  <thead>\n",
       "    <tr style=\"text-align: right;\">\n",
       "      <th></th>\n",
       "      <th>lon</th>\n",
       "      <th>lat</th>\n",
       "      <th>severity</th>\n",
       "      <th>num_vehicles</th>\n",
       "      <th>num_casualties</th>\n",
       "      <th>date</th>\n",
       "      <th>doy</th>\n",
       "      <th>time</th>\n",
       "      <th>road_type</th>\n",
       "      <th>Speed_limit</th>\n",
       "      <th>ped_crossing</th>\n",
       "      <th>light_cond</th>\n",
       "      <th>weather</th>\n",
       "      <th>road_cond</th>\n",
       "      <th>hazards</th>\n",
       "      <th>urb_or_rur</th>\n",
       "      <th>police_presence</th>\n",
       "      <th>year</th>\n",
       "    </tr>\n",
       "  </thead>\n",
       "  <tbody>\n",
       "    <tr>\n",
       "      <th>0</th>\n",
       "      <td>-0.169101</td>\n",
       "      <td>51.493429</td>\n",
       "      <td>3</td>\n",
       "      <td>2</td>\n",
       "      <td>1</td>\n",
       "      <td>2012-01-19</td>\n",
       "      <td>5</td>\n",
       "      <td>21</td>\n",
       "      <td>Single carriageway</td>\n",
       "      <td>30</td>\n",
       "      <td>Pedestrian phase at traffic signal junction</td>\n",
       "      <td>Darkness: Street lights present and lit</td>\n",
       "      <td>Fine without high winds</td>\n",
       "      <td>Dry</td>\n",
       "      <td>None</td>\n",
       "      <td>1</td>\n",
       "      <td>Yes</td>\n",
       "      <td>2012</td>\n",
       "    </tr>\n",
       "    <tr>\n",
       "      <th>1</th>\n",
       "      <td>-0.200838</td>\n",
       "      <td>51.517931</td>\n",
       "      <td>3</td>\n",
       "      <td>2</td>\n",
       "      <td>1</td>\n",
       "      <td>2012-04-01</td>\n",
       "      <td>4</td>\n",
       "      <td>17</td>\n",
       "      <td>Single carriageway</td>\n",
       "      <td>30</td>\n",
       "      <td>No physical crossing within 50 meters</td>\n",
       "      <td>Darkness: Street lights present and lit</td>\n",
       "      <td>Fine without high winds</td>\n",
       "      <td>Dry</td>\n",
       "      <td>None</td>\n",
       "      <td>1</td>\n",
       "      <td>Yes</td>\n",
       "      <td>2012</td>\n",
       "    </tr>\n",
       "    <tr>\n",
       "      <th>2</th>\n",
       "      <td>-0.188636</td>\n",
       "      <td>51.487618</td>\n",
       "      <td>3</td>\n",
       "      <td>2</td>\n",
       "      <td>1</td>\n",
       "      <td>2012-10-01</td>\n",
       "      <td>3</td>\n",
       "      <td>10</td>\n",
       "      <td>One way street</td>\n",
       "      <td>30</td>\n",
       "      <td>non-junction pedestrian crossing</td>\n",
       "      <td>Daylight: Street light present</td>\n",
       "      <td>Fine without high winds</td>\n",
       "      <td>Dry</td>\n",
       "      <td>None</td>\n",
       "      <td>1</td>\n",
       "      <td>Yes</td>\n",
       "      <td>2012</td>\n",
       "    </tr>\n",
       "    <tr>\n",
       "      <th>3</th>\n",
       "      <td>-0.200259</td>\n",
       "      <td>51.514325</td>\n",
       "      <td>3</td>\n",
       "      <td>1</td>\n",
       "      <td>1</td>\n",
       "      <td>2012-01-18</td>\n",
       "      <td>4</td>\n",
       "      <td>12</td>\n",
       "      <td>Single carriageway</td>\n",
       "      <td>30</td>\n",
       "      <td>No physical crossing within 50 meters</td>\n",
       "      <td>Daylight: Street light present</td>\n",
       "      <td>Fine without high winds</td>\n",
       "      <td>Dry</td>\n",
       "      <td>None</td>\n",
       "      <td>1</td>\n",
       "      <td>Yes</td>\n",
       "      <td>2012</td>\n",
       "    </tr>\n",
       "    <tr>\n",
       "      <th>4</th>\n",
       "      <td>-0.183773</td>\n",
       "      <td>51.497614</td>\n",
       "      <td>3</td>\n",
       "      <td>1</td>\n",
       "      <td>1</td>\n",
       "      <td>2012-01-17</td>\n",
       "      <td>3</td>\n",
       "      <td>20</td>\n",
       "      <td>Single carriageway</td>\n",
       "      <td>30</td>\n",
       "      <td>No physical crossing within 50 meters</td>\n",
       "      <td>Darkness: Street lights present and lit</td>\n",
       "      <td>Fine without high winds</td>\n",
       "      <td>Dry</td>\n",
       "      <td>None</td>\n",
       "      <td>1</td>\n",
       "      <td>Yes</td>\n",
       "      <td>2012</td>\n",
       "    </tr>\n",
       "  </tbody>\n",
       "</table>\n",
       "</div>"
      ],
      "text/plain": [
       "        lon        lat  severity  num_vehicles  num_casualties        date  \\\n",
       "0 -0.169101  51.493429         3             2               1  2012-01-19   \n",
       "1 -0.200838  51.517931         3             2               1  2012-04-01   \n",
       "2 -0.188636  51.487618         3             2               1  2012-10-01   \n",
       "3 -0.200259  51.514325         3             1               1  2012-01-18   \n",
       "4 -0.183773  51.497614         3             1               1  2012-01-17   \n",
       "\n",
       "   doy  time           road_type  Speed_limit  \\\n",
       "0    5    21  Single carriageway           30   \n",
       "1    4    17  Single carriageway           30   \n",
       "2    3    10      One way street           30   \n",
       "3    4    12  Single carriageway           30   \n",
       "4    3    20  Single carriageway           30   \n",
       "\n",
       "                                  ped_crossing  \\\n",
       "0  Pedestrian phase at traffic signal junction   \n",
       "1        No physical crossing within 50 meters   \n",
       "2             non-junction pedestrian crossing   \n",
       "3        No physical crossing within 50 meters   \n",
       "4        No physical crossing within 50 meters   \n",
       "\n",
       "                                light_cond                  weather road_cond  \\\n",
       "0  Darkness: Street lights present and lit  Fine without high winds       Dry   \n",
       "1  Darkness: Street lights present and lit  Fine without high winds       Dry   \n",
       "2           Daylight: Street light present  Fine without high winds       Dry   \n",
       "3           Daylight: Street light present  Fine without high winds       Dry   \n",
       "4  Darkness: Street lights present and lit  Fine without high winds       Dry   \n",
       "\n",
       "  hazards  urb_or_rur police_presence  year  \n",
       "0    None           1             Yes  2012  \n",
       "1    None           1             Yes  2012  \n",
       "2    None           1             Yes  2012  \n",
       "3    None           1             Yes  2012  \n",
       "4    None           1             Yes  2012  "
      ]
     },
     "execution_count": 3,
     "metadata": {},
     "output_type": "execute_result"
    }
   ],
   "source": [
    "# exploring which are the columns that need to be dummies:\n",
    "df.head()"
   ]
  },
  {
   "cell_type": "markdown",
   "metadata": {},
   "source": [
    "#### Police presence\n",
    "This column, which tells us whether the police did attend the accident or not, has only two values: Yes or No. We will change these values to 0 and 1:\n",
    "- 0 will mean no.\n",
    "- 1 will mean yes."
   ]
  },
  {
   "cell_type": "code",
   "execution_count": 4,
   "metadata": {},
   "outputs": [],
   "source": [
    "# we will use the numpy where function\n",
    "df['police_presence'] = np.where(df['police_presence'] == 'Yes', 1, 0)"
   ]
  },
  {
   "cell_type": "markdown",
   "metadata": {},
   "source": [
    "#### Urban or rural\n",
    "This columns is telling us if the accident happened in urban or rural."
   ]
  },
  {
   "cell_type": "code",
   "execution_count": 5,
   "metadata": {},
   "outputs": [
    {
     "data": {
      "text/plain": [
       "1    968908\n",
       "2    530565\n",
       "Name: urb_or_rur, dtype: int64"
      ]
     },
     "execution_count": 5,
     "metadata": {},
     "output_type": "execute_result"
    }
   ],
   "source": [
    "# checking values\n",
    "df['urb_or_rur'].value_counts()"
   ]
  },
  {
   "cell_type": "markdown",
   "metadata": {},
   "source": [
    "We have two values: 1 for urban and 2 for rural. We will convert these into:\n",
    "- 0 for urban.\n",
    "- 1 for rural."
   ]
  },
  {
   "cell_type": "code",
   "execution_count": 6,
   "metadata": {},
   "outputs": [],
   "source": [
    "# we only need to subtract 1 from the column\n",
    "df['urb_or_rur'] = df['urb_or_rur'] - 1"
   ]
  },
  {
   "cell_type": "markdown",
   "metadata": {},
   "source": [
    "#### Hazards\n",
    "The 'hazards' column tells us about risks and dangers the accident had."
   ]
  },
  {
   "cell_type": "code",
   "execution_count": 7,
   "metadata": {},
   "outputs": [
    {
     "data": {
      "text/plain": [
       "None                                       1472338\n",
       "Other object in carriageway                  11707\n",
       "Any animal (except a ridden horse)            7998\n",
       "Pedestrian in carriageway (not injured)       3563\n",
       "Involvement with previous accident            2278\n",
       "Dislodged vehicle load in carriageway         1589\n",
       "Name: hazards, dtype: int64"
      ]
     },
     "execution_count": 7,
     "metadata": {},
     "output_type": "execute_result"
    }
   ],
   "source": [
    "# checking values\n",
    "df['hazards'].value_counts()"
   ]
  },
  {
   "cell_type": "markdown",
   "metadata": {},
   "source": [
    "We have 6 different hazards taking into account the 'none' one. These will be put in dummy variables, meaning that there'll be one column per hazard with a 1 in the rows with that hazard and a 0 in the ones without it. The hazard 'None' will be represented as a 0 in all the other columns."
   ]
  },
  {
   "cell_type": "code",
   "execution_count": 8,
   "metadata": {},
   "outputs": [],
   "source": [
    "# we will use the pandas get_dummies function\n",
    "hazards = pd.get_dummies(df['hazards'], prefix='hazard')\n",
    "\n",
    "# merging them\n",
    "df1 = pd.merge(df, hazards, left_index=True, right_index=True)\n",
    "\n",
    "# dropping the useless columns\n",
    "df1.drop(['hazards', 'hazard_None'], axis=1, inplace=True)"
   ]
  },
  {
   "cell_type": "markdown",
   "metadata": {},
   "source": [
    "#### Road condition\n",
    "Tells us the conditions of the road, we have the following values:"
   ]
  },
  {
   "cell_type": "code",
   "execution_count": 9,
   "metadata": {},
   "outputs": [
    {
     "data": {
      "text/plain": [
       "Dry                          1032637\n",
       "Wet/Damp                      422853\n",
       "Frost/Ice                      31363\n",
       "Snow                           10481\n",
       "Flood (Over 3cm of water)       2139\n",
       "Name: road_cond, dtype: int64"
      ]
     },
     "execution_count": 9,
     "metadata": {},
     "output_type": "execute_result"
    }
   ],
   "source": [
    "df['road_cond'].value_counts()"
   ]
  },
  {
   "cell_type": "markdown",
   "metadata": {},
   "source": [
    "We'll get dummy variables from here, as we did for hazards. Also we'll drop the 'Dry' value because it means it has none of the other and the conditions are normal."
   ]
  },
  {
   "cell_type": "code",
   "execution_count": 10,
   "metadata": {},
   "outputs": [],
   "source": [
    "# we will use the pandas get_dummies function\n",
    "road_cond = pd.get_dummies(df['road_cond'], prefix='road')\n",
    "\n",
    "# merging them\n",
    "df2 = pd.merge(df1, road_cond, left_index=True, right_index=True)\n",
    "\n",
    "# dropping the useless columns\n",
    "df2.drop(['road_cond', 'road_Dry'], axis=1, inplace=True)"
   ]
  },
  {
   "cell_type": "markdown",
   "metadata": {},
   "source": [
    "#### Weather\n",
    "Tells us weather conditions , we have the following values:"
   ]
  },
  {
   "cell_type": "code",
   "execution_count": 11,
   "metadata": {},
   "outputs": [
    {
     "data": {
      "text/plain": [
       "Fine without high winds       1201497\n",
       "Raining without high winds     177378\n",
       "Other                           33389\n",
       "Unknown                         26705\n",
       "Raining with high winds         20774\n",
       "Fine with high winds            18317\n",
       "Snowing without high winds      11284\n",
       "Fog or mist                      8173\n",
       "Snowing with high winds          1956\n",
       "Name: weather, dtype: int64"
      ]
     },
     "execution_count": 11,
     "metadata": {},
     "output_type": "execute_result"
    }
   ],
   "source": [
    "# checking values\n",
    "df['weather'].value_counts()"
   ]
  },
  {
   "cell_type": "markdown",
   "metadata": {},
   "source": [
    "We'll get dummy variables from here, as we did for hazards. This time we won't drop values because we have the 'fine without high winds' as well as 'unknown' and 'other', which we may not exactly know what they mean but could give us information."
   ]
  },
  {
   "cell_type": "code",
   "execution_count": 12,
   "metadata": {},
   "outputs": [],
   "source": [
    "# we will use the pandas get_dummies function\n",
    "weather = pd.get_dummies(df['weather'], prefix='weather')\n",
    "\n",
    "# merging them\n",
    "df3 = pd.merge(df2, weather, left_index=True, right_index=True)\n",
    "\n",
    "# dropping the useless columns\n",
    "df3.drop(['weather'], axis=1, inplace=True)"
   ]
  },
  {
   "cell_type": "markdown",
   "metadata": {},
   "source": [
    "#### Light conditions\n",
    "Tells us light conditions, we have the following values:"
   ]
  },
  {
   "cell_type": "code",
   "execution_count": 13,
   "metadata": {},
   "outputs": [
    {
     "data": {
      "text/plain": [
       "Daylight: Street light present               1098803\n",
       "Darkness: Street lights present and lit       295466\n",
       "Darkeness: No street lighting                  82383\n",
       "Darkness: Street lighting unknown              15935\n",
       "Darkness: Street lights present but unlit       6886\n",
       "Name: light_cond, dtype: int64"
      ]
     },
     "execution_count": 13,
     "metadata": {},
     "output_type": "execute_result"
    }
   ],
   "source": [
    "df['light_cond'].value_counts()"
   ]
  },
  {
   "cell_type": "markdown",
   "metadata": {},
   "source": [
    "We'll get dummy variables from here, as we did for hazards. Also we'll drop the 'Daylight' value because it means it has none of the other and the conditions are normal."
   ]
  },
  {
   "cell_type": "code",
   "execution_count": 14,
   "metadata": {},
   "outputs": [],
   "source": [
    "# we will use the pandas get_dummies function\n",
    "light = pd.get_dummies(df['light_cond'])\n",
    "\n",
    "# merging them\n",
    "df4 = pd.merge(df3, light, left_index=True, right_index=True)\n",
    "\n",
    "# dropping the useless columns\n",
    "df4.drop(['light_cond', 'Daylight: Street light present'], axis=1, inplace=True)"
   ]
  },
  {
   "cell_type": "markdown",
   "metadata": {},
   "source": [
    "#### Pedestrian crossing\n",
    "We have the following values:"
   ]
  },
  {
   "cell_type": "code",
   "execution_count": 15,
   "metadata": {},
   "outputs": [
    {
     "data": {
      "text/plain": [
       "No physical crossing within 50 meters          1248826\n",
       "Pedestrian phase at traffic signal junction      99898\n",
       "non-junction pedestrian crossing                 78943\n",
       "Zebra crossing                                   39945\n",
       "Central refuge                                   27575\n",
       "Footbridge or subway                              4286\n",
       "Name: ped_crossing, dtype: int64"
      ]
     },
     "execution_count": 15,
     "metadata": {},
     "output_type": "execute_result"
    }
   ],
   "source": [
    "df['ped_crossing'].value_counts()"
   ]
  },
  {
   "cell_type": "markdown",
   "metadata": {},
   "source": [
    "We'll get dummy variables from here, as we did for hazards. Also we'll drop the 'no physical crossing...' value because it means it has none of the other and the conditions are normal."
   ]
  },
  {
   "cell_type": "code",
   "execution_count": 16,
   "metadata": {},
   "outputs": [],
   "source": [
    "# we will use the pandas get_dummies function\n",
    "peds = pd.get_dummies(df['ped_crossing'])\n",
    "\n",
    "# merging them\n",
    "df5 = pd.merge(df4, peds, left_index=True, right_index=True)\n",
    "\n",
    "# dropping the useless columns\n",
    "df5.drop(['ped_crossing', 'No physical crossing within 50 meters'], axis=1, inplace=True)"
   ]
  },
  {
   "cell_type": "markdown",
   "metadata": {},
   "source": [
    "#### Road types\n",
    "We have the following values:"
   ]
  },
  {
   "cell_type": "code",
   "execution_count": 17,
   "metadata": {},
   "outputs": [
    {
     "data": {
      "text/plain": [
       "Single carriageway    1123476\n",
       "Dual carriageway       221243\n",
       "Roundabout             100006\n",
       "One way street          30825\n",
       "Slip road               15632\n",
       "Unknown                  8291\n",
       "Name: road_type, dtype: int64"
      ]
     },
     "execution_count": 17,
     "metadata": {},
     "output_type": "execute_result"
    }
   ],
   "source": [
    "df['road_type'].value_counts()"
   ]
  },
  {
   "cell_type": "markdown",
   "metadata": {},
   "source": [
    "We'll get dummy variables from here, as we did for hazards."
   ]
  },
  {
   "cell_type": "code",
   "execution_count": 19,
   "metadata": {},
   "outputs": [],
   "source": [
    "# we will use the pandas get_dummies function\n",
    "rtypes = pd.get_dummies(df['road_type'], prefix='rtype')\n",
    "\n",
    "# merging them\n",
    "df6 = pd.merge(df5, rtypes, left_index=True, right_index=True)\n",
    "\n",
    "# dropping the useless columns\n",
    "df6.drop(['road_type'], axis=1, inplace=True)"
   ]
  },
  {
   "cell_type": "markdown",
   "metadata": {},
   "source": [
    "#### Day of the week\n",
    "We have the following values:"
   ]
  },
  {
   "cell_type": "code",
   "execution_count": 20,
   "metadata": {},
   "outputs": [
    {
     "data": {
      "text/plain": [
       "6    246366\n",
       "5    225712\n",
       "4    225619\n",
       "3    223407\n",
       "2    213064\n",
       "7    200803\n",
       "1    164502\n",
       "Name: doy, dtype: int64"
      ]
     },
     "execution_count": 20,
     "metadata": {},
     "output_type": "execute_result"
    }
   ],
   "source": [
    "df['doy'].value_counts()"
   ]
  },
  {
   "cell_type": "markdown",
   "metadata": {},
   "source": [
    "We will divide the days of the week in weekend (Fri, Sat and Sun) and rest of the week, (Mon, Tue, Wed, Thu)."
   ]
  },
  {
   "cell_type": "code",
   "execution_count": 21,
   "metadata": {},
   "outputs": [],
   "source": [
    "# we will use np.where for this purpose\n",
    "df6['weekend'] = np.where((df.doy == 6) | (df.doy == 7) | (df.doy == 1), 1, 0)"
   ]
  },
  {
   "cell_type": "code",
   "execution_count": 22,
   "metadata": {},
   "outputs": [
    {
     "data": {
      "text/plain": [
       "0          False\n",
       "1          False\n",
       "2          False\n",
       "3          False\n",
       "4          False\n",
       "           ...  \n",
       "1504145    False\n",
       "1504146    False\n",
       "1504147    False\n",
       "1504148    False\n",
       "1504149    False\n",
       "Name: weekend, Length: 1499473, dtype: bool"
      ]
     },
     "execution_count": 22,
     "metadata": {},
     "output_type": "execute_result"
    }
   ],
   "source": [
    "df6.weekend.isna()"
   ]
  },
  {
   "cell_type": "markdown",
   "metadata": {},
   "source": [
    "#### Time\n",
    "We have 24 values indicating the our of the accident, we want to convert them into day and night.\n",
    "We'll create a column named night that will contain 0 if it's between 7 and 22 o'clock and 1 for the rest, considering it the night."
   ]
  },
  {
   "cell_type": "code",
   "execution_count": 23,
   "metadata": {},
   "outputs": [],
   "source": [
    "df6['night'] = np.where((df['time'] >= 7) & (df['time'] <= 22), 0, 1)\n",
    "df6.drop(['time'], axis=1, inplace=True)"
   ]
  },
  {
   "cell_type": "markdown",
   "metadata": {},
   "source": [
    "#### Now that we've finished converting dummy variables, we'll drop columns that don't give relevant information for our analysis."
   ]
  },
  {
   "cell_type": "code",
   "execution_count": 24,
   "metadata": {},
   "outputs": [],
   "source": [
    "df6.drop(['lat','lon','date', 'year'], axis=1, inplace=True)"
   ]
  },
  {
   "cell_type": "code",
   "execution_count": 25,
   "metadata": {},
   "outputs": [
    {
     "name": "stdout",
     "output_type": "stream",
     "text": [
      "<class 'pandas.core.frame.DataFrame'>\n",
      "Int64Index: 1499473 entries, 0 to 1504149\n",
      "Data columns (total 42 columns):\n",
      "severity                                          1499473 non-null int64\n",
      "num_vehicles                                      1499473 non-null int64\n",
      "num_casualties                                    1499473 non-null int64\n",
      "doy                                               1499473 non-null int64\n",
      "Speed_limit                                       1499473 non-null int64\n",
      "urb_or_rur                                        1499473 non-null int64\n",
      "police_presence                                   1499473 non-null int64\n",
      "hazard_Any animal (except a ridden horse)         1499473 non-null uint8\n",
      "hazard_Dislodged vehicle load in carriageway      1499473 non-null uint8\n",
      "hazard_Involvement with previous accident         1499473 non-null uint8\n",
      "hazard_Other object in carriageway                1499473 non-null uint8\n",
      "hazard_Pedestrian in carriageway (not injured)    1499473 non-null uint8\n",
      "road_Flood (Over 3cm of water)                    1499473 non-null uint8\n",
      "road_Frost/Ice                                    1499473 non-null uint8\n",
      "road_Snow                                         1499473 non-null uint8\n",
      "road_Wet/Damp                                     1499473 non-null uint8\n",
      "weather_Fine with high winds                      1499473 non-null uint8\n",
      "weather_Fine without high winds                   1499473 non-null uint8\n",
      "weather_Fog or mist                               1499473 non-null uint8\n",
      "weather_Other                                     1499473 non-null uint8\n",
      "weather_Raining with high winds                   1499473 non-null uint8\n",
      "weather_Raining without high winds                1499473 non-null uint8\n",
      "weather_Snowing with high winds                   1499473 non-null uint8\n",
      "weather_Snowing without high winds                1499473 non-null uint8\n",
      "weather_Unknown                                   1499473 non-null uint8\n",
      "Darkeness: No street lighting                     1499473 non-null uint8\n",
      "Darkness: Street lighting unknown                 1499473 non-null uint8\n",
      "Darkness: Street lights present and lit           1499473 non-null uint8\n",
      "Darkness: Street lights present but unlit         1499473 non-null uint8\n",
      "Central refuge                                    1499473 non-null uint8\n",
      "Footbridge or subway                              1499473 non-null uint8\n",
      "Pedestrian phase at traffic signal junction       1499473 non-null uint8\n",
      "Zebra crossing                                    1499473 non-null uint8\n",
      "non-junction pedestrian crossing                  1499473 non-null uint8\n",
      "rtype_Dual carriageway                            1499473 non-null uint8\n",
      "rtype_One way street                              1499473 non-null uint8\n",
      "rtype_Roundabout                                  1499473 non-null uint8\n",
      "rtype_Single carriageway                          1499473 non-null uint8\n",
      "rtype_Slip road                                   1499473 non-null uint8\n",
      "rtype_Unknown                                     1499473 non-null uint8\n",
      "weekend                                           1499473 non-null int64\n",
      "night                                             1499473 non-null int64\n",
      "dtypes: int64(9), uint8(33)\n",
      "memory usage: 201.6 MB\n"
     ]
    }
   ],
   "source": [
    "df6.info()"
   ]
  },
  {
   "cell_type": "markdown",
   "metadata": {},
   "source": [
    "## Rescaling \n",
    "Rescaling of the numerical values in order to not imbalance the algorithm."
   ]
  },
  {
   "cell_type": "code",
   "execution_count": 26,
   "metadata": {},
   "outputs": [],
   "source": [
    "# we've tried some rescaling methods from sklearn to get the data between 0 and 1, but none of them worked correctly\n",
    "# we'll divide the speed limit by the max we have\n",
    "\n",
    "df6['Speed_limit'] = df6['Speed_limit']/df6['Speed_limit'].max()"
   ]
  },
  {
   "cell_type": "code",
   "execution_count": 27,
   "metadata": {},
   "outputs": [
    {
     "data": {
      "text/html": [
       "<div>\n",
       "<style scoped>\n",
       "    .dataframe tbody tr th:only-of-type {\n",
       "        vertical-align: middle;\n",
       "    }\n",
       "\n",
       "    .dataframe tbody tr th {\n",
       "        vertical-align: top;\n",
       "    }\n",
       "\n",
       "    .dataframe thead th {\n",
       "        text-align: right;\n",
       "    }\n",
       "</style>\n",
       "<table border=\"1\" class=\"dataframe\">\n",
       "  <thead>\n",
       "    <tr style=\"text-align: right;\">\n",
       "      <th></th>\n",
       "      <th>severity</th>\n",
       "      <th>num_vehicles</th>\n",
       "      <th>num_casualties</th>\n",
       "      <th>doy</th>\n",
       "      <th>Speed_limit</th>\n",
       "      <th>urb_or_rur</th>\n",
       "      <th>police_presence</th>\n",
       "      <th>hazard_Any animal (except a ridden horse)</th>\n",
       "      <th>hazard_Dislodged vehicle load in carriageway</th>\n",
       "      <th>hazard_Involvement with previous accident</th>\n",
       "      <th>...</th>\n",
       "      <th>Zebra crossing</th>\n",
       "      <th>non-junction pedestrian crossing</th>\n",
       "      <th>rtype_Dual carriageway</th>\n",
       "      <th>rtype_One way street</th>\n",
       "      <th>rtype_Roundabout</th>\n",
       "      <th>rtype_Single carriageway</th>\n",
       "      <th>rtype_Slip road</th>\n",
       "      <th>rtype_Unknown</th>\n",
       "      <th>weekend</th>\n",
       "      <th>night</th>\n",
       "    </tr>\n",
       "  </thead>\n",
       "  <tbody>\n",
       "    <tr>\n",
       "      <th>0</th>\n",
       "      <td>3</td>\n",
       "      <td>2</td>\n",
       "      <td>1</td>\n",
       "      <td>5</td>\n",
       "      <td>0.428571</td>\n",
       "      <td>0</td>\n",
       "      <td>1</td>\n",
       "      <td>0</td>\n",
       "      <td>0</td>\n",
       "      <td>0</td>\n",
       "      <td>...</td>\n",
       "      <td>0</td>\n",
       "      <td>0</td>\n",
       "      <td>0</td>\n",
       "      <td>0</td>\n",
       "      <td>0</td>\n",
       "      <td>1</td>\n",
       "      <td>0</td>\n",
       "      <td>0</td>\n",
       "      <td>0</td>\n",
       "      <td>0</td>\n",
       "    </tr>\n",
       "    <tr>\n",
       "      <th>1</th>\n",
       "      <td>3</td>\n",
       "      <td>2</td>\n",
       "      <td>1</td>\n",
       "      <td>4</td>\n",
       "      <td>0.428571</td>\n",
       "      <td>0</td>\n",
       "      <td>1</td>\n",
       "      <td>0</td>\n",
       "      <td>0</td>\n",
       "      <td>0</td>\n",
       "      <td>...</td>\n",
       "      <td>0</td>\n",
       "      <td>0</td>\n",
       "      <td>0</td>\n",
       "      <td>0</td>\n",
       "      <td>0</td>\n",
       "      <td>1</td>\n",
       "      <td>0</td>\n",
       "      <td>0</td>\n",
       "      <td>0</td>\n",
       "      <td>0</td>\n",
       "    </tr>\n",
       "    <tr>\n",
       "      <th>2</th>\n",
       "      <td>3</td>\n",
       "      <td>2</td>\n",
       "      <td>1</td>\n",
       "      <td>3</td>\n",
       "      <td>0.428571</td>\n",
       "      <td>0</td>\n",
       "      <td>1</td>\n",
       "      <td>0</td>\n",
       "      <td>0</td>\n",
       "      <td>0</td>\n",
       "      <td>...</td>\n",
       "      <td>0</td>\n",
       "      <td>1</td>\n",
       "      <td>0</td>\n",
       "      <td>1</td>\n",
       "      <td>0</td>\n",
       "      <td>0</td>\n",
       "      <td>0</td>\n",
       "      <td>0</td>\n",
       "      <td>0</td>\n",
       "      <td>0</td>\n",
       "    </tr>\n",
       "    <tr>\n",
       "      <th>3</th>\n",
       "      <td>3</td>\n",
       "      <td>1</td>\n",
       "      <td>1</td>\n",
       "      <td>4</td>\n",
       "      <td>0.428571</td>\n",
       "      <td>0</td>\n",
       "      <td>1</td>\n",
       "      <td>0</td>\n",
       "      <td>0</td>\n",
       "      <td>0</td>\n",
       "      <td>...</td>\n",
       "      <td>0</td>\n",
       "      <td>0</td>\n",
       "      <td>0</td>\n",
       "      <td>0</td>\n",
       "      <td>0</td>\n",
       "      <td>1</td>\n",
       "      <td>0</td>\n",
       "      <td>0</td>\n",
       "      <td>0</td>\n",
       "      <td>0</td>\n",
       "    </tr>\n",
       "    <tr>\n",
       "      <th>4</th>\n",
       "      <td>3</td>\n",
       "      <td>1</td>\n",
       "      <td>1</td>\n",
       "      <td>3</td>\n",
       "      <td>0.428571</td>\n",
       "      <td>0</td>\n",
       "      <td>1</td>\n",
       "      <td>0</td>\n",
       "      <td>0</td>\n",
       "      <td>0</td>\n",
       "      <td>...</td>\n",
       "      <td>0</td>\n",
       "      <td>0</td>\n",
       "      <td>0</td>\n",
       "      <td>0</td>\n",
       "      <td>0</td>\n",
       "      <td>1</td>\n",
       "      <td>0</td>\n",
       "      <td>0</td>\n",
       "      <td>0</td>\n",
       "      <td>0</td>\n",
       "    </tr>\n",
       "  </tbody>\n",
       "</table>\n",
       "<p>5 rows × 42 columns</p>\n",
       "</div>"
      ],
      "text/plain": [
       "   severity  num_vehicles  num_casualties  doy  Speed_limit  urb_or_rur  \\\n",
       "0         3             2               1    5     0.428571           0   \n",
       "1         3             2               1    4     0.428571           0   \n",
       "2         3             2               1    3     0.428571           0   \n",
       "3         3             1               1    4     0.428571           0   \n",
       "4         3             1               1    3     0.428571           0   \n",
       "\n",
       "   police_presence  hazard_Any animal (except a ridden horse)  \\\n",
       "0                1                                          0   \n",
       "1                1                                          0   \n",
       "2                1                                          0   \n",
       "3                1                                          0   \n",
       "4                1                                          0   \n",
       "\n",
       "   hazard_Dislodged vehicle load in carriageway  \\\n",
       "0                                             0   \n",
       "1                                             0   \n",
       "2                                             0   \n",
       "3                                             0   \n",
       "4                                             0   \n",
       "\n",
       "   hazard_Involvement with previous accident  ...  Zebra crossing  \\\n",
       "0                                          0  ...               0   \n",
       "1                                          0  ...               0   \n",
       "2                                          0  ...               0   \n",
       "3                                          0  ...               0   \n",
       "4                                          0  ...               0   \n",
       "\n",
       "   non-junction pedestrian crossing  rtype_Dual carriageway  \\\n",
       "0                                 0                       0   \n",
       "1                                 0                       0   \n",
       "2                                 1                       0   \n",
       "3                                 0                       0   \n",
       "4                                 0                       0   \n",
       "\n",
       "   rtype_One way street  rtype_Roundabout  rtype_Single carriageway  \\\n",
       "0                     0                 0                         1   \n",
       "1                     0                 0                         1   \n",
       "2                     1                 0                         0   \n",
       "3                     0                 0                         1   \n",
       "4                     0                 0                         1   \n",
       "\n",
       "   rtype_Slip road  rtype_Unknown  weekend  night  \n",
       "0                0              0        0      0  \n",
       "1                0              0        0      0  \n",
       "2                0              0        0      0  \n",
       "3                0              0        0      0  \n",
       "4                0              0        0      0  \n",
       "\n",
       "[5 rows x 42 columns]"
      ]
     },
     "execution_count": 27,
     "metadata": {},
     "output_type": "execute_result"
    }
   ],
   "source": [
    "# checking everything looks okay\n",
    "df6.head()"
   ]
  },
  {
   "cell_type": "code",
   "execution_count": 33,
   "metadata": {},
   "outputs": [],
   "source": [
    "df6.to_csv('../data/preprocessed_data.csv')"
   ]
  }
 ],
 "metadata": {
  "kernelspec": {
   "display_name": "Python 3",
   "language": "python",
   "name": "python3"
  },
  "language_info": {
   "codemirror_mode": {
    "name": "ipython",
    "version": 3
   },
   "file_extension": ".py",
   "mimetype": "text/x-python",
   "name": "python",
   "nbconvert_exporter": "python",
   "pygments_lexer": "ipython3",
   "version": "3.7.3"
  }
 },
 "nbformat": 4,
 "nbformat_minor": 2
}
