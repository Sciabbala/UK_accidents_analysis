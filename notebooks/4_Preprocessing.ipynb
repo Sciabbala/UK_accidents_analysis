{
 "cells": [
  {
   "cell_type": "markdown",
   "metadata": {},
   "source": [
    "# Preprocessing\n",
    "Preprocessing is the previous step to Machine Learning, it consists on preparing the data to optimize the model algorithm. We will follow these steps:\n",
    "- **Get dummy variables:** categorical values need to be separed in boolean columns.\n",
    "- **Rescaling:** normalization or standarisation of the numerical values in order to not imbalance the algorithm.\n",
    "\n",
    "### Get dummy variables"
   ]
  },
  {
   "cell_type": "code",
   "execution_count": 15,
   "metadata": {},
   "outputs": [],
   "source": [
    "# importing necessary libraries\n",
    "import pandas as pd\n",
    "import numpy as np"
   ]
  },
  {
   "cell_type": "code",
   "execution_count": 29,
   "metadata": {},
   "outputs": [],
   "source": [
    "# importing the data\n",
    "df = pd.read_csv('../data/clean_data.csv')"
   ]
  },
  {
   "cell_type": "code",
   "execution_count": 30,
   "metadata": {},
   "outputs": [
    {
     "data": {
      "text/html": [
       "<div>\n",
       "<style scoped>\n",
       "    .dataframe tbody tr th:only-of-type {\n",
       "        vertical-align: middle;\n",
       "    }\n",
       "\n",
       "    .dataframe tbody tr th {\n",
       "        vertical-align: top;\n",
       "    }\n",
       "\n",
       "    .dataframe thead th {\n",
       "        text-align: right;\n",
       "    }\n",
       "</style>\n",
       "<table border=\"1\" class=\"dataframe\">\n",
       "  <thead>\n",
       "    <tr style=\"text-align: right;\">\n",
       "      <th></th>\n",
       "      <th>Unnamed: 0</th>\n",
       "      <th>lon</th>\n",
       "      <th>lat</th>\n",
       "      <th>severity</th>\n",
       "      <th>num_vehicles</th>\n",
       "      <th>num_casualties</th>\n",
       "      <th>date</th>\n",
       "      <th>doy</th>\n",
       "      <th>time</th>\n",
       "      <th>road_type</th>\n",
       "      <th>Speed_limit</th>\n",
       "      <th>ped_crossing</th>\n",
       "      <th>light_cond</th>\n",
       "      <th>weather</th>\n",
       "      <th>road_cond</th>\n",
       "      <th>hazards</th>\n",
       "      <th>urb_or_rur</th>\n",
       "      <th>police_presence</th>\n",
       "      <th>year</th>\n",
       "    </tr>\n",
       "  </thead>\n",
       "  <tbody>\n",
       "    <tr>\n",
       "      <th>0</th>\n",
       "      <td>0</td>\n",
       "      <td>-0.169101</td>\n",
       "      <td>51.493429</td>\n",
       "      <td>3</td>\n",
       "      <td>2</td>\n",
       "      <td>1</td>\n",
       "      <td>2012-01-19</td>\n",
       "      <td>5</td>\n",
       "      <td>21</td>\n",
       "      <td>Single carriageway</td>\n",
       "      <td>30</td>\n",
       "      <td>Pedestrian phase at traffic signal junction</td>\n",
       "      <td>Darkness: Street lights present and lit</td>\n",
       "      <td>Fine without high winds</td>\n",
       "      <td>Dry</td>\n",
       "      <td>None</td>\n",
       "      <td>1</td>\n",
       "      <td>Yes</td>\n",
       "      <td>2012</td>\n",
       "    </tr>\n",
       "    <tr>\n",
       "      <th>1</th>\n",
       "      <td>1</td>\n",
       "      <td>-0.200838</td>\n",
       "      <td>51.517931</td>\n",
       "      <td>3</td>\n",
       "      <td>2</td>\n",
       "      <td>1</td>\n",
       "      <td>2012-04-01</td>\n",
       "      <td>4</td>\n",
       "      <td>17</td>\n",
       "      <td>Single carriageway</td>\n",
       "      <td>30</td>\n",
       "      <td>No physical crossing within 50 meters</td>\n",
       "      <td>Darkness: Street lights present and lit</td>\n",
       "      <td>Fine without high winds</td>\n",
       "      <td>Dry</td>\n",
       "      <td>None</td>\n",
       "      <td>1</td>\n",
       "      <td>Yes</td>\n",
       "      <td>2012</td>\n",
       "    </tr>\n",
       "    <tr>\n",
       "      <th>2</th>\n",
       "      <td>2</td>\n",
       "      <td>-0.188636</td>\n",
       "      <td>51.487618</td>\n",
       "      <td>3</td>\n",
       "      <td>2</td>\n",
       "      <td>1</td>\n",
       "      <td>2012-10-01</td>\n",
       "      <td>3</td>\n",
       "      <td>10</td>\n",
       "      <td>One way street</td>\n",
       "      <td>30</td>\n",
       "      <td>non-junction pedestrian crossing</td>\n",
       "      <td>Daylight: Street light present</td>\n",
       "      <td>Fine without high winds</td>\n",
       "      <td>Dry</td>\n",
       "      <td>None</td>\n",
       "      <td>1</td>\n",
       "      <td>Yes</td>\n",
       "      <td>2012</td>\n",
       "    </tr>\n",
       "    <tr>\n",
       "      <th>3</th>\n",
       "      <td>3</td>\n",
       "      <td>-0.200259</td>\n",
       "      <td>51.514325</td>\n",
       "      <td>3</td>\n",
       "      <td>1</td>\n",
       "      <td>1</td>\n",
       "      <td>2012-01-18</td>\n",
       "      <td>4</td>\n",
       "      <td>12</td>\n",
       "      <td>Single carriageway</td>\n",
       "      <td>30</td>\n",
       "      <td>No physical crossing within 50 meters</td>\n",
       "      <td>Daylight: Street light present</td>\n",
       "      <td>Fine without high winds</td>\n",
       "      <td>Dry</td>\n",
       "      <td>None</td>\n",
       "      <td>1</td>\n",
       "      <td>Yes</td>\n",
       "      <td>2012</td>\n",
       "    </tr>\n",
       "    <tr>\n",
       "      <th>4</th>\n",
       "      <td>4</td>\n",
       "      <td>-0.183773</td>\n",
       "      <td>51.497614</td>\n",
       "      <td>3</td>\n",
       "      <td>1</td>\n",
       "      <td>1</td>\n",
       "      <td>2012-01-17</td>\n",
       "      <td>3</td>\n",
       "      <td>20</td>\n",
       "      <td>Single carriageway</td>\n",
       "      <td>30</td>\n",
       "      <td>No physical crossing within 50 meters</td>\n",
       "      <td>Darkness: Street lights present and lit</td>\n",
       "      <td>Fine without high winds</td>\n",
       "      <td>Dry</td>\n",
       "      <td>None</td>\n",
       "      <td>1</td>\n",
       "      <td>Yes</td>\n",
       "      <td>2012</td>\n",
       "    </tr>\n",
       "  </tbody>\n",
       "</table>\n",
       "</div>"
      ],
      "text/plain": [
       "   Unnamed: 0       lon        lat  severity  num_vehicles  num_casualties  \\\n",
       "0           0 -0.169101  51.493429         3             2               1   \n",
       "1           1 -0.200838  51.517931         3             2               1   \n",
       "2           2 -0.188636  51.487618         3             2               1   \n",
       "3           3 -0.200259  51.514325         3             1               1   \n",
       "4           4 -0.183773  51.497614         3             1               1   \n",
       "\n",
       "         date  doy  time           road_type  Speed_limit  \\\n",
       "0  2012-01-19    5    21  Single carriageway           30   \n",
       "1  2012-04-01    4    17  Single carriageway           30   \n",
       "2  2012-10-01    3    10      One way street           30   \n",
       "3  2012-01-18    4    12  Single carriageway           30   \n",
       "4  2012-01-17    3    20  Single carriageway           30   \n",
       "\n",
       "                                  ped_crossing  \\\n",
       "0  Pedestrian phase at traffic signal junction   \n",
       "1        No physical crossing within 50 meters   \n",
       "2             non-junction pedestrian crossing   \n",
       "3        No physical crossing within 50 meters   \n",
       "4        No physical crossing within 50 meters   \n",
       "\n",
       "                                light_cond                  weather road_cond  \\\n",
       "0  Darkness: Street lights present and lit  Fine without high winds       Dry   \n",
       "1  Darkness: Street lights present and lit  Fine without high winds       Dry   \n",
       "2           Daylight: Street light present  Fine without high winds       Dry   \n",
       "3           Daylight: Street light present  Fine without high winds       Dry   \n",
       "4  Darkness: Street lights present and lit  Fine without high winds       Dry   \n",
       "\n",
       "  hazards  urb_or_rur police_presence  year  \n",
       "0    None           1             Yes  2012  \n",
       "1    None           1             Yes  2012  \n",
       "2    None           1             Yes  2012  \n",
       "3    None           1             Yes  2012  \n",
       "4    None           1             Yes  2012  "
      ]
     },
     "execution_count": 30,
     "metadata": {},
     "output_type": "execute_result"
    }
   ],
   "source": [
    "# exploring which are the columns that need to be dummies:\n",
    "df.head()"
   ]
  },
  {
   "cell_type": "markdown",
   "metadata": {},
   "source": [
    "#### Police presence\n",
    "This column, which tells us whether the police did attend the accident or not, has only two values: Yes or No. We will change these values to 0 and 1:\n",
    "- 0 will mean no.\n",
    "- 1 will mean yes."
   ]
  },
  {
   "cell_type": "code",
   "execution_count": 31,
   "metadata": {},
   "outputs": [],
   "source": [
    "# we will use the numpy where function\n",
    "df['police_presence'] = np.where(df['police_presence'] == 'Yes', 1, 0)"
   ]
  },
  {
   "cell_type": "markdown",
   "metadata": {},
   "source": [
    "#### Urban or rural\n",
    "This columns is telling us if the accident happened in urban or rural."
   ]
  },
  {
   "cell_type": "code",
   "execution_count": 41,
   "metadata": {},
   "outputs": [
    {
     "data": {
      "text/plain": [
       "1    968908\n",
       "2    530565\n",
       "3        35\n",
       "Name: urb_or_rur, dtype: int64"
      ]
     },
     "execution_count": 41,
     "metadata": {},
     "output_type": "execute_result"
    }
   ],
   "source": [
    "# checking values\n",
    "df['urb_or_rur'].value_counts()"
   ]
  },
  {
   "cell_type": "markdown",
   "metadata": {},
   "source": [
    "We have two values: 1 for urban and 2 for rural. We will convert these into:\n",
    "- 0 for urban.\n",
    "- 1 for rural."
   ]
  },
  {
   "cell_type": "code",
   "execution_count": 43,
   "metadata": {},
   "outputs": [],
   "source": [
    "# we only need to subtract 1 from the column\n",
    "df['urb_or_rur'] = df['urb_or_rur'] - 1"
   ]
  },
  {
   "cell_type": "markdown",
   "metadata": {},
   "source": [
    "#### Hazards\n",
    "The 'hazards' column tells us about risks and dangers the accident had."
   ]
  },
  {
   "cell_type": "code",
   "execution_count": 32,
   "metadata": {},
   "outputs": [
    {
     "data": {
      "text/plain": [
       "None                                       1472373\n",
       "Other object in carriageway                  11707\n",
       "Any animal (except a ridden horse)            7998\n",
       "Pedestrian in carriageway (not injured)       3563\n",
       "Involvement with previous accident            2278\n",
       "Dislodged vehicle load in carriageway         1589\n",
       "Name: hazards, dtype: int64"
      ]
     },
     "execution_count": 32,
     "metadata": {},
     "output_type": "execute_result"
    }
   ],
   "source": [
    "# checking values\n",
    "df['hazards'].value_counts()"
   ]
  },
  {
   "cell_type": "markdown",
   "metadata": {},
   "source": [
    "We have 6 different hazards taking into account the 'none' one. These will be put in dummy variables, meaning that there'll be one column per hazard with a 1 in the rows with that hazard and a 0 in the ones without it. The hazard 'None' will be represented as a 0 in all the other columns."
   ]
  },
  {
   "cell_type": "code",
   "execution_count": 40,
   "metadata": {},
   "outputs": [],
   "source": [
    "# we will use the pandas get_dummies function\n",
    "hazards = pd.get_dummies(df['hazards'])\n",
    "\n",
    "# merging them\n",
    "df1 = pd.merge(df, hazards, left_index=True, right_index=True)\n",
    "\n",
    "# dropping the useless columns\n",
    "df1.drop(['Unnamed: 0', 'hazards', 'None'], axis=1, inplace=True)\n"
   ]
  },
  {
   "cell_type": "code",
   "execution_count": null,
   "metadata": {},
   "outputs": [],
   "source": []
  },
  {
   "cell_type": "code",
   "execution_count": null,
   "metadata": {},
   "outputs": [],
   "source": []
  },
  {
   "cell_type": "code",
   "execution_count": null,
   "metadata": {},
   "outputs": [],
   "source": []
  },
  {
   "cell_type": "code",
   "execution_count": null,
   "metadata": {},
   "outputs": [],
   "source": []
  }
 ],
 "metadata": {
  "kernelspec": {
   "display_name": "Python 3",
   "language": "python",
   "name": "python3"
  },
  "language_info": {
   "codemirror_mode": {
    "name": "ipython",
    "version": 3
   },
   "file_extension": ".py",
   "mimetype": "text/x-python",
   "name": "python",
   "nbconvert_exporter": "python",
   "pygments_lexer": "ipython3",
   "version": "3.7.4"
  }
 },
 "nbformat": 4,
 "nbformat_minor": 2
}
