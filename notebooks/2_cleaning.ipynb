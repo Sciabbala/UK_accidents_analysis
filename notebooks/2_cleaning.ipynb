{
 "cells": [
  {
   "cell_type": "markdown",
   "metadata": {},
   "source": [
    "### Importing the merged .csv as a DataFrame"
   ]
  },
  {
   "cell_type": "code",
   "execution_count": 43,
   "metadata": {},
   "outputs": [],
   "source": [
    "import pandas as pd\n",
    "import numpy as np\n",
    "from datetime import datetime"
   ]
  },
  {
   "cell_type": "code",
   "execution_count": 44,
   "metadata": {},
   "outputs": [],
   "source": [
    "pd.set_option('display.max_columns', 50)"
   ]
  },
  {
   "cell_type": "code",
   "execution_count": 45,
   "metadata": {},
   "outputs": [
    {
     "name": "stderr",
     "output_type": "stream",
     "text": [
      "/home/linuxbrew/.linuxbrew/opt/python/lib/python3.7/site-packages/IPython/core/interactiveshell.py:3058: DtypeWarning: Columns (32) have mixed types. Specify dtype option on import or set low_memory=False.\n",
      "  interactivity=interactivity, compiler=compiler, result=result)\n",
      "/home/linuxbrew/.linuxbrew/opt/python/lib/python3.7/site-packages/numpy/lib/arraysetops.py:569: FutureWarning: elementwise comparison failed; returning scalar instead, but in the future will perform elementwise comparison\n",
      "  mask |= (ar1 == a)\n"
     ]
    }
   ],
   "source": [
    "df = pd.read_csv('../data/merged_data.csv', index_col=0)"
   ]
  },
  {
   "cell_type": "markdown",
   "metadata": {},
   "source": [
    "### Checking columns names and dtypes"
   ]
  },
  {
   "cell_type": "code",
   "execution_count": 46,
   "metadata": {},
   "outputs": [
    {
     "name": "stdout",
     "output_type": "stream",
     "text": [
      "<class 'pandas.core.frame.DataFrame'>\n",
      "Int64Index: 1504150 entries, 0 to 1504149\n",
      "Data columns (total 33 columns):\n",
      "Accident_Index                                 1504150 non-null object\n",
      "Location_Easting_OSGR                          1504049 non-null float64\n",
      "Location_Northing_OSGR                         1504049 non-null float64\n",
      "Longitude                                      1504049 non-null float64\n",
      "Latitude                                       1504049 non-null float64\n",
      "Police_Force                                   1504150 non-null int64\n",
      "Accident_Severity                              1504150 non-null int64\n",
      "Number_of_Vehicles                             1504150 non-null int64\n",
      "Number_of_Casualties                           1504150 non-null int64\n",
      "Date                                           1504150 non-null object\n",
      "Day_of_Week                                    1504150 non-null int64\n",
      "Time                                           1504033 non-null object\n",
      "Local_Authority_(District)                     1504150 non-null int64\n",
      "Local_Authority_(Highway)                      1504150 non-null object\n",
      "1st_Road_Class                                 1504150 non-null int64\n",
      "1st_Road_Number                                1504150 non-null int64\n",
      "Road_Type                                      1504150 non-null object\n",
      "Speed_limit                                    1504150 non-null int64\n",
      "Junction_Detail                                0 non-null float64\n",
      "Junction_Control                               901315 non-null object\n",
      "2nd_Road_Class                                 1504150 non-null int64\n",
      "2nd_Road_Number                                1504150 non-null int64\n",
      "Pedestrian_Crossing-Human_Control              1504133 non-null object\n",
      "Pedestrian_Crossing-Physical_Facilities        1504116 non-null object\n",
      "Light_Conditions                               1504150 non-null object\n",
      "Weather_Conditions                             1504024 non-null object\n",
      "Road_Surface_Conditions                        1502192 non-null object\n",
      "Special_Conditions_at_Site                     1504135 non-null object\n",
      "Carriageway_Hazards                            1504121 non-null object\n",
      "Urban_or_Rural_Area                            1504150 non-null int64\n",
      "Did_Police_Officer_Attend_Scene_of_Accident    1501228 non-null object\n",
      "LSOA_of_Accident_Location                      1395912 non-null object\n",
      "Year                                           1504150 non-null int64\n",
      "dtypes: float64(5), int64(13), object(15)\n",
      "memory usage: 390.2+ MB\n"
     ]
    }
   ],
   "source": [
    "df.info()"
   ]
  },
  {
   "cell_type": "markdown",
   "metadata": {},
   "source": [
    "### Checking nan values"
   ]
  },
  {
   "cell_type": "code",
   "execution_count": 47,
   "metadata": {},
   "outputs": [
    {
     "data": {
      "text/plain": [
       "Accident_Index                                       0\n",
       "Location_Easting_OSGR                              101\n",
       "Location_Northing_OSGR                             101\n",
       "Longitude                                          101\n",
       "Latitude                                           101\n",
       "Police_Force                                         0\n",
       "Accident_Severity                                    0\n",
       "Number_of_Vehicles                                   0\n",
       "Number_of_Casualties                                 0\n",
       "Date                                                 0\n",
       "Day_of_Week                                          0\n",
       "Time                                               117\n",
       "Local_Authority_(District)                           0\n",
       "Local_Authority_(Highway)                            0\n",
       "1st_Road_Class                                       0\n",
       "1st_Road_Number                                      0\n",
       "Road_Type                                            0\n",
       "Speed_limit                                          0\n",
       "Junction_Detail                                1504150\n",
       "Junction_Control                                602835\n",
       "2nd_Road_Class                                       0\n",
       "2nd_Road_Number                                      0\n",
       "Pedestrian_Crossing-Human_Control                   17\n",
       "Pedestrian_Crossing-Physical_Facilities             34\n",
       "Light_Conditions                                     0\n",
       "Weather_Conditions                                 126\n",
       "Road_Surface_Conditions                           1958\n",
       "Special_Conditions_at_Site                          15\n",
       "Carriageway_Hazards                                 29\n",
       "Urban_or_Rural_Area                                  0\n",
       "Did_Police_Officer_Attend_Scene_of_Accident       2922\n",
       "LSOA_of_Accident_Location                       108238\n",
       "Year                                                 0\n",
       "dtype: int64"
      ]
     },
     "execution_count": 47,
     "metadata": {},
     "output_type": "execute_result"
    }
   ],
   "source": [
    "df.isna().sum()"
   ]
  },
  {
   "cell_type": "markdown",
   "metadata": {},
   "source": [
    "### Columns to be dropped.\n",
    "- Accident_Index: Not required since we can simply use the DataFrame index.\n",
    "- Location_Easting_OSGR and Location_Northing_OSGR: Those are GB-specific coordinates. We have Lat and Lon and therefore we do not need them.\n",
    "- Police_Force: No info.\n",
    "- Local_Authority_(District) and Local_Authority_(Highway): Not useful for our analysis.\n",
    "- 1st_Road_Class and 1st_Road_Number: Only related to junctions. We already have many attributes that are useful for our analysis and prediction.\n",
    "- Junction_Detail and Junction_Control: almost no data.\n",
    "- 2nd_Road_Class and 2nd_Road_Number: Same as above.\n",
    "- Pedestrian_Crossing-Human_Control: Very specific information, not useful for our analysis.\n",
    "- Special_Conditions_at_Site: We already have a lot of information on conditions.\n",
    "- LSOA_of_Accident_Location: Again, we have Lat and Lon."
   ]
  },
  {
   "cell_type": "code",
   "execution_count": 48,
   "metadata": {},
   "outputs": [],
   "source": [
    "columns_to_drop = ['Accident_Index', 'Location_Easting_OSGR', 'Location_Northing_OSGR', 'Police_Force', \n",
    "                   'Local_Authority_(District)', 'Local_Authority_(Highway)', '1st_Road_Class',\n",
    "                   '1st_Road_Number', 'Junction_Detail', 'Junction_Control', '2nd_Road_Class',\n",
    "                   '2nd_Road_Number', 'Pedestrian_Crossing-Human_Control', 'Special_Conditions_at_Site',\n",
    "                   'LSOA_of_Accident_Location']"
   ]
  },
  {
   "cell_type": "code",
   "execution_count": 49,
   "metadata": {},
   "outputs": [],
   "source": [
    "df.drop(columns_to_drop, axis=1, inplace=True)"
   ]
  },
  {
   "cell_type": "code",
   "execution_count": 50,
   "metadata": {},
   "outputs": [
    {
     "name": "stdout",
     "output_type": "stream",
     "text": [
      "<class 'pandas.core.frame.DataFrame'>\n",
      "Int64Index: 1504150 entries, 0 to 1504149\n",
      "Data columns (total 18 columns):\n",
      "Longitude                                      1504049 non-null float64\n",
      "Latitude                                       1504049 non-null float64\n",
      "Accident_Severity                              1504150 non-null int64\n",
      "Number_of_Vehicles                             1504150 non-null int64\n",
      "Number_of_Casualties                           1504150 non-null int64\n",
      "Date                                           1504150 non-null object\n",
      "Day_of_Week                                    1504150 non-null int64\n",
      "Time                                           1504033 non-null object\n",
      "Road_Type                                      1504150 non-null object\n",
      "Speed_limit                                    1504150 non-null int64\n",
      "Pedestrian_Crossing-Physical_Facilities        1504116 non-null object\n",
      "Light_Conditions                               1504150 non-null object\n",
      "Weather_Conditions                             1504024 non-null object\n",
      "Road_Surface_Conditions                        1502192 non-null object\n",
      "Carriageway_Hazards                            1504121 non-null object\n",
      "Urban_or_Rural_Area                            1504150 non-null int64\n",
      "Did_Police_Officer_Attend_Scene_of_Accident    1501228 non-null object\n",
      "Year                                           1504150 non-null int64\n",
      "dtypes: float64(2), int64(7), object(9)\n",
      "memory usage: 218.0+ MB\n"
     ]
    }
   ],
   "source": [
    "df.info()"
   ]
  },
  {
   "cell_type": "markdown",
   "metadata": {},
   "source": [
    "### Renaming columns"
   ]
  },
  {
   "cell_type": "code",
   "execution_count": 51,
   "metadata": {},
   "outputs": [],
   "source": [
    "column_names = {'Longitude': 'lon', 'Latitude': 'lat', 'Accident_Severity': 'severity', \n",
    "                'Number_of_Vehicles': 'num_vehicles', 'Number_of_Casualties': 'num_casualties',\n",
    "                'Date': 'date', 'Day_of_Week': 'doy', 'Time': 'time', 'Road_Type': 'road_type',\n",
    "                'Pedestrian_Crossing-Physical_Facilities': 'ped_crossing', 'Light_Conditions': 'light_cond',\n",
    "                'Weather_Conditions': 'weather', 'Road_Surface_Conditions': 'road_cond',\n",
    "                'Carriageway_Hazards': 'hazards', 'Urban_or_Rural_Area': 'urb_or_rur',\n",
    "                'Did_Police_Officer_Attend_Scene_of_Accident': 'police_presence', 'Year': 'year'}"
   ]
  },
  {
   "cell_type": "code",
   "execution_count": 52,
   "metadata": {},
   "outputs": [],
   "source": [
    "df.rename(columns=column_names, inplace=True)"
   ]
  },
  {
   "cell_type": "code",
   "execution_count": 53,
   "metadata": {},
   "outputs": [
    {
     "name": "stdout",
     "output_type": "stream",
     "text": [
      "<class 'pandas.core.frame.DataFrame'>\n",
      "Int64Index: 1504150 entries, 0 to 1504149\n",
      "Data columns (total 18 columns):\n",
      "lon                1504049 non-null float64\n",
      "lat                1504049 non-null float64\n",
      "severity           1504150 non-null int64\n",
      "num_vehicles       1504150 non-null int64\n",
      "num_casualties     1504150 non-null int64\n",
      "date               1504150 non-null object\n",
      "doy                1504150 non-null int64\n",
      "time               1504033 non-null object\n",
      "road_type          1504150 non-null object\n",
      "Speed_limit        1504150 non-null int64\n",
      "ped_crossing       1504116 non-null object\n",
      "light_cond         1504150 non-null object\n",
      "weather            1504024 non-null object\n",
      "road_cond          1502192 non-null object\n",
      "hazards            1504121 non-null object\n",
      "urb_or_rur         1504150 non-null int64\n",
      "police_presence    1501228 non-null object\n",
      "year               1504150 non-null int64\n",
      "dtypes: float64(2), int64(7), object(9)\n",
      "memory usage: 218.0+ MB\n"
     ]
    }
   ],
   "source": [
    "df.info()"
   ]
  },
  {
   "cell_type": "markdown",
   "metadata": {},
   "source": [
    "### Given the very low number of Nans we will be dropping all the rows containing them to make the analysis and prediction easier"
   ]
  },
  {
   "cell_type": "code",
   "execution_count": 54,
   "metadata": {},
   "outputs": [
    {
     "data": {
      "text/plain": [
       "0.9969138716218462"
      ]
     },
     "execution_count": 54,
     "metadata": {},
     "output_type": "execute_result"
    }
   ],
   "source": [
    "len(df.dropna())/len(df)"
   ]
  },
  {
   "cell_type": "code",
   "execution_count": 55,
   "metadata": {},
   "outputs": [],
   "source": [
    "df.dropna(inplace=True)"
   ]
  },
  {
   "cell_type": "markdown",
   "metadata": {},
   "source": [
    "### Converting date column to datetime"
   ]
  },
  {
   "cell_type": "code",
   "execution_count": 56,
   "metadata": {},
   "outputs": [
    {
     "data": {
      "text/plain": [
       "0    19/01/2012\n",
       "1    04/01/2012\n",
       "2    10/01/2012\n",
       "3    18/01/2012\n",
       "4    17/01/2012\n",
       "Name: date, dtype: object"
      ]
     },
     "execution_count": 56,
     "metadata": {},
     "output_type": "execute_result"
    }
   ],
   "source": [
    "df.date.head()"
   ]
  },
  {
   "cell_type": "code",
   "execution_count": 57,
   "metadata": {
    "scrolled": true
   },
   "outputs": [
    {
     "data": {
      "text/plain": [
       "0         2012-01-19\n",
       "1         2012-04-01\n",
       "2         2012-10-01\n",
       "3         2012-01-18\n",
       "4         2012-01-17\n",
       "             ...    \n",
       "1504145   2007-12-20\n",
       "1504146   2007-12-21\n",
       "1504147   2007-12-23\n",
       "1504148   2007-12-23\n",
       "1504149   2007-12-22\n",
       "Name: date, Length: 1499508, dtype: datetime64[ns]"
      ]
     },
     "execution_count": 57,
     "metadata": {},
     "output_type": "execute_result"
    }
   ],
   "source": [
    "pd.to_datetime(df.date)"
   ]
  },
  {
   "cell_type": "markdown",
   "metadata": {},
   "source": [
    "### We got no errors therefore the dates are all formatted in the same way"
   ]
  },
  {
   "cell_type": "code",
   "execution_count": 58,
   "metadata": {},
   "outputs": [],
   "source": [
    "df.date = pd.to_datetime(df.date)"
   ]
  },
  {
   "cell_type": "markdown",
   "metadata": {},
   "source": [
    "### Removing minutes and keeping only the hours from Time column. Going to the next hour if minutes are > 30"
   ]
  },
  {
   "cell_type": "code",
   "execution_count": 59,
   "metadata": {},
   "outputs": [],
   "source": [
    "func = lambda x: int(x[:-3]) if int(x[-2:]) <= 30 else int(x[:-3]) + 1\n",
    "df.time = df.time.apply(func)"
   ]
  },
  {
   "cell_type": "markdown",
   "metadata": {},
   "source": [
    "### Checking .head again"
   ]
  },
  {
   "cell_type": "code",
   "execution_count": 60,
   "metadata": {},
   "outputs": [
    {
     "data": {
      "text/html": [
       "<div>\n",
       "<style scoped>\n",
       "    .dataframe tbody tr th:only-of-type {\n",
       "        vertical-align: middle;\n",
       "    }\n",
       "\n",
       "    .dataframe tbody tr th {\n",
       "        vertical-align: top;\n",
       "    }\n",
       "\n",
       "    .dataframe thead th {\n",
       "        text-align: right;\n",
       "    }\n",
       "</style>\n",
       "<table border=\"1\" class=\"dataframe\">\n",
       "  <thead>\n",
       "    <tr style=\"text-align: right;\">\n",
       "      <th></th>\n",
       "      <th>lon</th>\n",
       "      <th>lat</th>\n",
       "      <th>severity</th>\n",
       "      <th>num_vehicles</th>\n",
       "      <th>num_casualties</th>\n",
       "      <th>date</th>\n",
       "      <th>doy</th>\n",
       "      <th>time</th>\n",
       "      <th>road_type</th>\n",
       "      <th>Speed_limit</th>\n",
       "      <th>ped_crossing</th>\n",
       "      <th>light_cond</th>\n",
       "      <th>weather</th>\n",
       "      <th>road_cond</th>\n",
       "      <th>hazards</th>\n",
       "      <th>urb_or_rur</th>\n",
       "      <th>police_presence</th>\n",
       "      <th>year</th>\n",
       "    </tr>\n",
       "  </thead>\n",
       "  <tbody>\n",
       "    <tr>\n",
       "      <th>0</th>\n",
       "      <td>-0.169101</td>\n",
       "      <td>51.493429</td>\n",
       "      <td>3</td>\n",
       "      <td>2</td>\n",
       "      <td>1</td>\n",
       "      <td>2012-01-19</td>\n",
       "      <td>5</td>\n",
       "      <td>21</td>\n",
       "      <td>Single carriageway</td>\n",
       "      <td>30</td>\n",
       "      <td>Pedestrian phase at traffic signal junction</td>\n",
       "      <td>Darkness: Street lights present and lit</td>\n",
       "      <td>Fine without high winds</td>\n",
       "      <td>Dry</td>\n",
       "      <td>None</td>\n",
       "      <td>1</td>\n",
       "      <td>Yes</td>\n",
       "      <td>2012</td>\n",
       "    </tr>\n",
       "    <tr>\n",
       "      <th>1</th>\n",
       "      <td>-0.200838</td>\n",
       "      <td>51.517931</td>\n",
       "      <td>3</td>\n",
       "      <td>2</td>\n",
       "      <td>1</td>\n",
       "      <td>2012-04-01</td>\n",
       "      <td>4</td>\n",
       "      <td>17</td>\n",
       "      <td>Single carriageway</td>\n",
       "      <td>30</td>\n",
       "      <td>No physical crossing within 50 meters</td>\n",
       "      <td>Darkness: Street lights present and lit</td>\n",
       "      <td>Fine without high winds</td>\n",
       "      <td>Dry</td>\n",
       "      <td>None</td>\n",
       "      <td>1</td>\n",
       "      <td>Yes</td>\n",
       "      <td>2012</td>\n",
       "    </tr>\n",
       "    <tr>\n",
       "      <th>2</th>\n",
       "      <td>-0.188636</td>\n",
       "      <td>51.487618</td>\n",
       "      <td>3</td>\n",
       "      <td>2</td>\n",
       "      <td>1</td>\n",
       "      <td>2012-10-01</td>\n",
       "      <td>3</td>\n",
       "      <td>10</td>\n",
       "      <td>One way street</td>\n",
       "      <td>30</td>\n",
       "      <td>non-junction pedestrian crossing</td>\n",
       "      <td>Daylight: Street light present</td>\n",
       "      <td>Fine without high winds</td>\n",
       "      <td>Dry</td>\n",
       "      <td>None</td>\n",
       "      <td>1</td>\n",
       "      <td>Yes</td>\n",
       "      <td>2012</td>\n",
       "    </tr>\n",
       "    <tr>\n",
       "      <th>3</th>\n",
       "      <td>-0.200259</td>\n",
       "      <td>51.514325</td>\n",
       "      <td>3</td>\n",
       "      <td>1</td>\n",
       "      <td>1</td>\n",
       "      <td>2012-01-18</td>\n",
       "      <td>4</td>\n",
       "      <td>12</td>\n",
       "      <td>Single carriageway</td>\n",
       "      <td>30</td>\n",
       "      <td>No physical crossing within 50 meters</td>\n",
       "      <td>Daylight: Street light present</td>\n",
       "      <td>Fine without high winds</td>\n",
       "      <td>Dry</td>\n",
       "      <td>None</td>\n",
       "      <td>1</td>\n",
       "      <td>Yes</td>\n",
       "      <td>2012</td>\n",
       "    </tr>\n",
       "    <tr>\n",
       "      <th>4</th>\n",
       "      <td>-0.183773</td>\n",
       "      <td>51.497614</td>\n",
       "      <td>3</td>\n",
       "      <td>1</td>\n",
       "      <td>1</td>\n",
       "      <td>2012-01-17</td>\n",
       "      <td>3</td>\n",
       "      <td>20</td>\n",
       "      <td>Single carriageway</td>\n",
       "      <td>30</td>\n",
       "      <td>No physical crossing within 50 meters</td>\n",
       "      <td>Darkness: Street lights present and lit</td>\n",
       "      <td>Fine without high winds</td>\n",
       "      <td>Dry</td>\n",
       "      <td>None</td>\n",
       "      <td>1</td>\n",
       "      <td>Yes</td>\n",
       "      <td>2012</td>\n",
       "    </tr>\n",
       "  </tbody>\n",
       "</table>\n",
       "</div>"
      ],
      "text/plain": [
       "        lon        lat  severity  num_vehicles  num_casualties       date  \\\n",
       "0 -0.169101  51.493429         3             2               1 2012-01-19   \n",
       "1 -0.200838  51.517931         3             2               1 2012-04-01   \n",
       "2 -0.188636  51.487618         3             2               1 2012-10-01   \n",
       "3 -0.200259  51.514325         3             1               1 2012-01-18   \n",
       "4 -0.183773  51.497614         3             1               1 2012-01-17   \n",
       "\n",
       "   doy  time           road_type  Speed_limit  \\\n",
       "0    5    21  Single carriageway           30   \n",
       "1    4    17  Single carriageway           30   \n",
       "2    3    10      One way street           30   \n",
       "3    4    12  Single carriageway           30   \n",
       "4    3    20  Single carriageway           30   \n",
       "\n",
       "                                  ped_crossing  \\\n",
       "0  Pedestrian phase at traffic signal junction   \n",
       "1        No physical crossing within 50 meters   \n",
       "2             non-junction pedestrian crossing   \n",
       "3        No physical crossing within 50 meters   \n",
       "4        No physical crossing within 50 meters   \n",
       "\n",
       "                                light_cond                  weather road_cond  \\\n",
       "0  Darkness: Street lights present and lit  Fine without high winds       Dry   \n",
       "1  Darkness: Street lights present and lit  Fine without high winds       Dry   \n",
       "2           Daylight: Street light present  Fine without high winds       Dry   \n",
       "3           Daylight: Street light present  Fine without high winds       Dry   \n",
       "4  Darkness: Street lights present and lit  Fine without high winds       Dry   \n",
       "\n",
       "  hazards  urb_or_rur police_presence  year  \n",
       "0    None           1             Yes  2012  \n",
       "1    None           1             Yes  2012  \n",
       "2    None           1             Yes  2012  \n",
       "3    None           1             Yes  2012  \n",
       "4    None           1             Yes  2012  "
      ]
     },
     "execution_count": 60,
     "metadata": {},
     "output_type": "execute_result"
    }
   ],
   "source": [
    "df.head()"
   ]
  },
  {
   "cell_type": "markdown",
   "metadata": {},
   "source": [
    "### Urban or rural"
   ]
  },
  {
   "cell_type": "code",
   "execution_count": 61,
   "metadata": {},
   "outputs": [
    {
     "data": {
      "text/plain": [
       "1    968908\n",
       "2    530565\n",
       "3        35\n",
       "Name: urb_or_rur, dtype: int64"
      ]
     },
     "execution_count": 61,
     "metadata": {},
     "output_type": "execute_result"
    }
   ],
   "source": [
    "df.urb_or_rur.value_counts()"
   ]
  },
  {
   "cell_type": "markdown",
   "metadata": {},
   "source": [
    "### Since 3 corresponds to undefined and it's only present in 35 observation we will be dropping the relevant rows."
   ]
  },
  {
   "cell_type": "code",
   "execution_count": 62,
   "metadata": {},
   "outputs": [],
   "source": [
    "df = df[df.urb_or_rur != 3]"
   ]
  },
  {
   "cell_type": "markdown",
   "metadata": {},
   "source": [
    "### Types are fine and columns were correctly renamed. We will save the df to a new .csv file for the analysis and prediction"
   ]
  },
  {
   "cell_type": "code",
   "execution_count": 63,
   "metadata": {},
   "outputs": [],
   "source": [
    "df.to_csv('../data/clean_data.csv')"
   ]
  }
 ],
 "metadata": {
  "kernelspec": {
   "display_name": "Python 3",
   "language": "python",
   "name": "python3"
  },
  "language_info": {
   "codemirror_mode": {
    "name": "ipython",
    "version": 3
   },
   "file_extension": ".py",
   "mimetype": "text/x-python",
   "name": "python",
   "nbconvert_exporter": "python",
   "pygments_lexer": "ipython3",
   "version": "3.7.3"
  }
 },
 "nbformat": 4,
 "nbformat_minor": 2
}
