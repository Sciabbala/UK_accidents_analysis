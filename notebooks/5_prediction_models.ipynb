{
 "cells": [
  {
   "cell_type": "code",
   "execution_count": 114,
   "metadata": {},
   "outputs": [],
   "source": [
    "from sklearn import metrics\n",
    "from sklearn.linear_model import LinearRegression\n",
    "from statsmodels.regression.linear_model import OLS, OLSResults, RegressionResults\n",
    "from sklearn.model_selection import train_test_split, GridSearchCV, RandomizedSearchCV\n",
    "from sklearn.neighbors import KNeighborsClassifier\n",
    "from sklearn.metrics import accuracy_score\n",
    "from sklearn.metrics import classification_report\n",
    "\n",
    "import numpy as np\n",
    "import pandas as pd\n",
    "import matplotlib.pyplot as plt\n",
    "import seaborn as sns"
   ]
  },
  {
   "cell_type": "code",
   "execution_count": 3,
   "metadata": {},
   "outputs": [
    {
     "name": "stderr",
     "output_type": "stream",
     "text": [
      "/home/linuxbrew/.linuxbrew/opt/python/lib/python3.7/site-packages/numpy/lib/arraysetops.py:569: FutureWarning: elementwise comparison failed; returning scalar instead, but in the future will perform elementwise comparison\n",
      "  mask |= (ar1 == a)\n"
     ]
    }
   ],
   "source": [
    "df = pd.read_csv('../data/preprocessed_data.csv', index_col=0)"
   ]
  },
  {
   "cell_type": "code",
   "execution_count": 4,
   "metadata": {},
   "outputs": [
    {
     "data": {
      "text/html": [
       "<div>\n",
       "<style scoped>\n",
       "    .dataframe tbody tr th:only-of-type {\n",
       "        vertical-align: middle;\n",
       "    }\n",
       "\n",
       "    .dataframe tbody tr th {\n",
       "        vertical-align: top;\n",
       "    }\n",
       "\n",
       "    .dataframe thead th {\n",
       "        text-align: right;\n",
       "    }\n",
       "</style>\n",
       "<table border=\"1\" class=\"dataframe\">\n",
       "  <thead>\n",
       "    <tr style=\"text-align: right;\">\n",
       "      <th></th>\n",
       "      <th>severity</th>\n",
       "      <th>num_vehicles</th>\n",
       "      <th>num_casualties</th>\n",
       "      <th>doy</th>\n",
       "      <th>Speed_limit</th>\n",
       "      <th>urb_or_rur</th>\n",
       "      <th>police_presence</th>\n",
       "      <th>hazard_Any animal (except a ridden horse)</th>\n",
       "      <th>hazard_Dislodged vehicle load in carriageway</th>\n",
       "      <th>hazard_Involvement with previous accident</th>\n",
       "      <th>...</th>\n",
       "      <th>Zebra crossing</th>\n",
       "      <th>non-junction pedestrian crossing</th>\n",
       "      <th>rtype_Dual carriageway</th>\n",
       "      <th>rtype_One way street</th>\n",
       "      <th>rtype_Roundabout</th>\n",
       "      <th>rtype_Single carriageway</th>\n",
       "      <th>rtype_Slip road</th>\n",
       "      <th>rtype_Unknown</th>\n",
       "      <th>weekend</th>\n",
       "      <th>night</th>\n",
       "    </tr>\n",
       "  </thead>\n",
       "  <tbody>\n",
       "    <tr>\n",
       "      <th>0</th>\n",
       "      <td>3</td>\n",
       "      <td>2</td>\n",
       "      <td>1</td>\n",
       "      <td>5</td>\n",
       "      <td>0.428571</td>\n",
       "      <td>0</td>\n",
       "      <td>1</td>\n",
       "      <td>0</td>\n",
       "      <td>0</td>\n",
       "      <td>0</td>\n",
       "      <td>...</td>\n",
       "      <td>0</td>\n",
       "      <td>0</td>\n",
       "      <td>0</td>\n",
       "      <td>0</td>\n",
       "      <td>0</td>\n",
       "      <td>1</td>\n",
       "      <td>0</td>\n",
       "      <td>0</td>\n",
       "      <td>0</td>\n",
       "      <td>0</td>\n",
       "    </tr>\n",
       "    <tr>\n",
       "      <th>1</th>\n",
       "      <td>3</td>\n",
       "      <td>2</td>\n",
       "      <td>1</td>\n",
       "      <td>4</td>\n",
       "      <td>0.428571</td>\n",
       "      <td>0</td>\n",
       "      <td>1</td>\n",
       "      <td>0</td>\n",
       "      <td>0</td>\n",
       "      <td>0</td>\n",
       "      <td>...</td>\n",
       "      <td>0</td>\n",
       "      <td>0</td>\n",
       "      <td>0</td>\n",
       "      <td>0</td>\n",
       "      <td>0</td>\n",
       "      <td>1</td>\n",
       "      <td>0</td>\n",
       "      <td>0</td>\n",
       "      <td>0</td>\n",
       "      <td>0</td>\n",
       "    </tr>\n",
       "    <tr>\n",
       "      <th>2</th>\n",
       "      <td>3</td>\n",
       "      <td>2</td>\n",
       "      <td>1</td>\n",
       "      <td>3</td>\n",
       "      <td>0.428571</td>\n",
       "      <td>0</td>\n",
       "      <td>1</td>\n",
       "      <td>0</td>\n",
       "      <td>0</td>\n",
       "      <td>0</td>\n",
       "      <td>...</td>\n",
       "      <td>0</td>\n",
       "      <td>1</td>\n",
       "      <td>0</td>\n",
       "      <td>1</td>\n",
       "      <td>0</td>\n",
       "      <td>0</td>\n",
       "      <td>0</td>\n",
       "      <td>0</td>\n",
       "      <td>0</td>\n",
       "      <td>0</td>\n",
       "    </tr>\n",
       "    <tr>\n",
       "      <th>3</th>\n",
       "      <td>3</td>\n",
       "      <td>1</td>\n",
       "      <td>1</td>\n",
       "      <td>4</td>\n",
       "      <td>0.428571</td>\n",
       "      <td>0</td>\n",
       "      <td>1</td>\n",
       "      <td>0</td>\n",
       "      <td>0</td>\n",
       "      <td>0</td>\n",
       "      <td>...</td>\n",
       "      <td>0</td>\n",
       "      <td>0</td>\n",
       "      <td>0</td>\n",
       "      <td>0</td>\n",
       "      <td>0</td>\n",
       "      <td>1</td>\n",
       "      <td>0</td>\n",
       "      <td>0</td>\n",
       "      <td>0</td>\n",
       "      <td>0</td>\n",
       "    </tr>\n",
       "    <tr>\n",
       "      <th>4</th>\n",
       "      <td>3</td>\n",
       "      <td>1</td>\n",
       "      <td>1</td>\n",
       "      <td>3</td>\n",
       "      <td>0.428571</td>\n",
       "      <td>0</td>\n",
       "      <td>1</td>\n",
       "      <td>0</td>\n",
       "      <td>0</td>\n",
       "      <td>0</td>\n",
       "      <td>...</td>\n",
       "      <td>0</td>\n",
       "      <td>0</td>\n",
       "      <td>0</td>\n",
       "      <td>0</td>\n",
       "      <td>0</td>\n",
       "      <td>1</td>\n",
       "      <td>0</td>\n",
       "      <td>0</td>\n",
       "      <td>0</td>\n",
       "      <td>0</td>\n",
       "    </tr>\n",
       "  </tbody>\n",
       "</table>\n",
       "<p>5 rows × 42 columns</p>\n",
       "</div>"
      ],
      "text/plain": [
       "   severity  num_vehicles  num_casualties  doy  Speed_limit  urb_or_rur  \\\n",
       "0         3             2               1    5     0.428571           0   \n",
       "1         3             2               1    4     0.428571           0   \n",
       "2         3             2               1    3     0.428571           0   \n",
       "3         3             1               1    4     0.428571           0   \n",
       "4         3             1               1    3     0.428571           0   \n",
       "\n",
       "   police_presence  hazard_Any animal (except a ridden horse)  \\\n",
       "0                1                                          0   \n",
       "1                1                                          0   \n",
       "2                1                                          0   \n",
       "3                1                                          0   \n",
       "4                1                                          0   \n",
       "\n",
       "   hazard_Dislodged vehicle load in carriageway  \\\n",
       "0                                             0   \n",
       "1                                             0   \n",
       "2                                             0   \n",
       "3                                             0   \n",
       "4                                             0   \n",
       "\n",
       "   hazard_Involvement with previous accident  ...  Zebra crossing  \\\n",
       "0                                          0  ...               0   \n",
       "1                                          0  ...               0   \n",
       "2                                          0  ...               0   \n",
       "3                                          0  ...               0   \n",
       "4                                          0  ...               0   \n",
       "\n",
       "   non-junction pedestrian crossing  rtype_Dual carriageway  \\\n",
       "0                                 0                       0   \n",
       "1                                 0                       0   \n",
       "2                                 1                       0   \n",
       "3                                 0                       0   \n",
       "4                                 0                       0   \n",
       "\n",
       "   rtype_One way street  rtype_Roundabout  rtype_Single carriageway  \\\n",
       "0                     0                 0                         1   \n",
       "1                     0                 0                         1   \n",
       "2                     1                 0                         0   \n",
       "3                     0                 0                         1   \n",
       "4                     0                 0                         1   \n",
       "\n",
       "   rtype_Slip road  rtype_Unknown  weekend  night  \n",
       "0                0              0        0      0  \n",
       "1                0              0        0      0  \n",
       "2                0              0        0      0  \n",
       "3                0              0        0      0  \n",
       "4                0              0        0      0  \n",
       "\n",
       "[5 rows x 42 columns]"
      ]
     },
     "execution_count": 4,
     "metadata": {},
     "output_type": "execute_result"
    }
   ],
   "source": [
    "df.head()"
   ]
  },
  {
   "cell_type": "code",
   "execution_count": 5,
   "metadata": {},
   "outputs": [
    {
     "data": {
      "text/plain": [
       "Index(['severity', 'num_vehicles', 'num_casualties', 'doy', 'Speed_limit',\n",
       "       'urb_or_rur', 'police_presence',\n",
       "       'hazard_Any animal (except a ridden horse)',\n",
       "       'hazard_Dislodged vehicle load in carriageway',\n",
       "       'hazard_Involvement with previous accident',\n",
       "       'hazard_Other object in carriageway',\n",
       "       'hazard_Pedestrian in carriageway (not injured)',\n",
       "       'road_Flood (Over 3cm of water)', 'road_Frost/Ice', 'road_Snow',\n",
       "       'road_Wet/Damp', 'weather_Fine with high winds',\n",
       "       'weather_Fine without high winds', 'weather_Fog or mist',\n",
       "       'weather_Other', 'weather_Raining with high winds',\n",
       "       'weather_Raining without high winds', 'weather_Snowing with high winds',\n",
       "       'weather_Snowing without high winds', 'weather_Unknown',\n",
       "       'Darkeness: No street lighting', 'Darkness: Street lighting unknown',\n",
       "       'Darkness: Street lights present and lit',\n",
       "       'Darkness: Street lights present but unlit', 'Central refuge',\n",
       "       'Footbridge or subway', 'Pedestrian phase at traffic signal junction',\n",
       "       'Zebra crossing', 'non-junction pedestrian crossing',\n",
       "       'rtype_Dual carriageway', 'rtype_One way street', 'rtype_Roundabout',\n",
       "       'rtype_Single carriageway', 'rtype_Slip road', 'rtype_Unknown',\n",
       "       'weekend', 'night'],\n",
       "      dtype='object')"
      ]
     },
     "execution_count": 5,
     "metadata": {},
     "output_type": "execute_result"
    }
   ],
   "source": [
    "df.columns"
   ]
  },
  {
   "cell_type": "code",
   "execution_count": 6,
   "metadata": {},
   "outputs": [
    {
     "data": {
      "text/plain": [
       "3    1275940\n",
       "2     204118\n",
       "1      19415\n",
       "Name: severity, dtype: int64"
      ]
     },
     "execution_count": 6,
     "metadata": {},
     "output_type": "execute_result"
    }
   ],
   "source": [
    "df.severity.value_counts()"
   ]
  },
  {
   "cell_type": "markdown",
   "metadata": {},
   "source": [
    "### Creating new df with only the variables that we want to run through the PCA. We will not use num_vehicles and num_casualties since it's an information that it's only available AFTER a car accident. We will also drop doy(day of week) since we have the weekend categorical column.\n",
    "\n",
    "### Also, given that our categories aren't balanced at all we will proceed with a downsampling of the rows with category 2 and 3 so that we can have a balanced dataset to test our models on."
   ]
  },
  {
   "cell_type": "code",
   "execution_count": 10,
   "metadata": {},
   "outputs": [],
   "source": [
    "df_downsample = df[df.severity == 1]\n",
    "df_downsample = pd.concat([df_downsample, df[df.severity == 2].sample(len(df_downsample)), \n",
    "          df[df.severity == 3].sample(len(df_downsample))])"
   ]
  },
  {
   "cell_type": "code",
   "execution_count": 18,
   "metadata": {},
   "outputs": [],
   "source": [
    "target = df_downsample.severity"
   ]
  },
  {
   "cell_type": "code",
   "execution_count": 105,
   "metadata": {},
   "outputs": [],
   "source": [
    "df_X = df_downsample.drop(['num_vehicles', 'num_casualties', 'doy'], axis=1)"
   ]
  },
  {
   "cell_type": "markdown",
   "metadata": {},
   "source": [
    "### Selecting features through OLS"
   ]
  },
  {
   "cell_type": "code",
   "execution_count": 21,
   "metadata": {},
   "outputs": [],
   "source": [
    "ols_features = OLS(target, df_X)"
   ]
  },
  {
   "cell_type": "code",
   "execution_count": 22,
   "metadata": {},
   "outputs": [],
   "source": [
    "results = ols_features.fit()"
   ]
  },
  {
   "cell_type": "code",
   "execution_count": 29,
   "metadata": {},
   "outputs": [
    {
     "data": {
      "text/html": [
       "<table class=\"simpletable\">\n",
       "<caption>OLS Regression Results</caption>\n",
       "<tr>\n",
       "  <th>Dep. Variable:</th>        <td>severity</td>     <th>  R-squared:         </th> <td>   0.164</td> \n",
       "</tr>\n",
       "<tr>\n",
       "  <th>Model:</th>                   <td>OLS</td>       <th>  Adj. R-squared:    </th> <td>   0.163</td> \n",
       "</tr>\n",
       "<tr>\n",
       "  <th>Method:</th>             <td>Least Squares</td>  <th>  F-statistic:       </th> <td>   316.9</td> \n",
       "</tr>\n",
       "<tr>\n",
       "  <th>Date:</th>             <td>Wed, 21 Aug 2019</td> <th>  Prob (F-statistic):</th>  <td>  0.00</td>  \n",
       "</tr>\n",
       "<tr>\n",
       "  <th>Time:</th>                 <td>15:51:09</td>     <th>  Log-Likelihood:    </th> <td> -65625.</td> \n",
       "</tr>\n",
       "<tr>\n",
       "  <th>No. Observations:</th>      <td> 58245</td>      <th>  AIC:               </th> <td>1.313e+05</td>\n",
       "</tr>\n",
       "<tr>\n",
       "  <th>Df Residuals:</th>          <td> 58208</td>      <th>  BIC:               </th> <td>1.317e+05</td>\n",
       "</tr>\n",
       "<tr>\n",
       "  <th>Df Model:</th>              <td>    36</td>      <th>                     </th>     <td> </td>    \n",
       "</tr>\n",
       "<tr>\n",
       "  <th>Covariance Type:</th>      <td>nonrobust</td>    <th>                     </th>     <td> </td>    \n",
       "</tr>\n",
       "</table>\n",
       "<table class=\"simpletable\">\n",
       "<tr>\n",
       "                         <td></td>                           <th>coef</th>     <th>std err</th>      <th>t</th>      <th>P>|t|</th>  <th>[0.025</th>    <th>0.975]</th>  \n",
       "</tr>\n",
       "<tr>\n",
       "  <th>Speed_limit</th>                                    <td>   -0.6970</td> <td>    0.024</td> <td>  -29.400</td> <td> 0.000</td> <td>   -0.744</td> <td>   -0.651</td>\n",
       "</tr>\n",
       "<tr>\n",
       "  <th>urb_or_rur</th>                                     <td>   -0.1409</td> <td>    0.010</td> <td>  -14.681</td> <td> 0.000</td> <td>   -0.160</td> <td>   -0.122</td>\n",
       "</tr>\n",
       "<tr>\n",
       "  <th>police_presence</th>                                <td>   -0.5351</td> <td>    0.011</td> <td>  -50.474</td> <td> 0.000</td> <td>   -0.556</td> <td>   -0.514</td>\n",
       "</tr>\n",
       "<tr>\n",
       "  <th>hazard_Any animal (except a ridden horse)</th>      <td>    0.3955</td> <td>    0.044</td> <td>    8.891</td> <td> 0.000</td> <td>    0.308</td> <td>    0.483</td>\n",
       "</tr>\n",
       "<tr>\n",
       "  <th>hazard_Dislodged vehicle load in carriageway</th>   <td>    0.1778</td> <td>    0.097</td> <td>    1.827</td> <td> 0.068</td> <td>   -0.013</td> <td>    0.369</td>\n",
       "</tr>\n",
       "<tr>\n",
       "  <th>hazard_Involvement with previous accident</th>      <td>   -0.0462</td> <td>    0.057</td> <td>   -0.809</td> <td> 0.418</td> <td>   -0.158</td> <td>    0.066</td>\n",
       "</tr>\n",
       "<tr>\n",
       "  <th>hazard_Other object in carriageway</th>             <td>    0.0133</td> <td>    0.032</td> <td>    0.413</td> <td> 0.680</td> <td>   -0.050</td> <td>    0.076</td>\n",
       "</tr>\n",
       "<tr>\n",
       "  <th>hazard_Pedestrian in carriageway (not injured)</th> <td>   -0.0095</td> <td>    0.066</td> <td>   -0.144</td> <td> 0.885</td> <td>   -0.139</td> <td>    0.120</td>\n",
       "</tr>\n",
       "<tr>\n",
       "  <th>road_Flood (Over 3cm of water)</th>                 <td>    0.0651</td> <td>    0.077</td> <td>    0.844</td> <td> 0.399</td> <td>   -0.086</td> <td>    0.216</td>\n",
       "</tr>\n",
       "<tr>\n",
       "  <th>road_Frost/Ice</th>                                 <td>    0.1940</td> <td>    0.024</td> <td>    8.032</td> <td> 0.000</td> <td>    0.147</td> <td>    0.241</td>\n",
       "</tr>\n",
       "<tr>\n",
       "  <th>road_Snow</th>                                      <td>    0.2637</td> <td>    0.055</td> <td>    4.832</td> <td> 0.000</td> <td>    0.157</td> <td>    0.371</td>\n",
       "</tr>\n",
       "<tr>\n",
       "  <th>road_Wet/Damp</th>                                  <td>   -0.0082</td> <td>    0.009</td> <td>   -0.932</td> <td> 0.351</td> <td>   -0.025</td> <td>    0.009</td>\n",
       "</tr>\n",
       "<tr>\n",
       "  <th>weather_Fine with high winds</th>                   <td>    1.1548</td> <td>    0.028</td> <td>   41.948</td> <td> 0.000</td> <td>    1.101</td> <td>    1.209</td>\n",
       "</tr>\n",
       "<tr>\n",
       "  <th>weather_Fine without high winds</th>                <td>    1.2252</td> <td>    0.012</td> <td>   99.670</td> <td> 0.000</td> <td>    1.201</td> <td>    1.249</td>\n",
       "</tr>\n",
       "<tr>\n",
       "  <th>weather_Fog or mist</th>                            <td>    1.2581</td> <td>    0.037</td> <td>   33.702</td> <td> 0.000</td> <td>    1.185</td> <td>    1.331</td>\n",
       "</tr>\n",
       "<tr>\n",
       "  <th>weather_Other</th>                                  <td>    1.3733</td> <td>    0.024</td> <td>   57.184</td> <td> 0.000</td> <td>    1.326</td> <td>    1.420</td>\n",
       "</tr>\n",
       "<tr>\n",
       "  <th>weather_Raining with high winds</th>                <td>    1.3253</td> <td>    0.028</td> <td>   46.980</td> <td> 0.000</td> <td>    1.270</td> <td>    1.381</td>\n",
       "</tr>\n",
       "<tr>\n",
       "  <th>weather_Raining without high winds</th>             <td>    1.3804</td> <td>    0.016</td> <td>   88.815</td> <td> 0.000</td> <td>    1.350</td> <td>    1.411</td>\n",
       "</tr>\n",
       "<tr>\n",
       "  <th>weather_Snowing with high winds</th>                <td>    1.4459</td> <td>    0.091</td> <td>   15.842</td> <td> 0.000</td> <td>    1.267</td> <td>    1.625</td>\n",
       "</tr>\n",
       "<tr>\n",
       "  <th>weather_Snowing without high winds</th>             <td>    1.3634</td> <td>    0.048</td> <td>   28.488</td> <td> 0.000</td> <td>    1.270</td> <td>    1.457</td>\n",
       "</tr>\n",
       "<tr>\n",
       "  <th>weather_Unknown</th>                                <td>    1.1818</td> <td>    0.026</td> <td>   44.750</td> <td> 0.000</td> <td>    1.130</td> <td>    1.234</td>\n",
       "</tr>\n",
       "<tr>\n",
       "  <th>Darkeness: No street lighting</th>                  <td>   -0.1717</td> <td>    0.012</td> <td>  -14.351</td> <td> 0.000</td> <td>   -0.195</td> <td>   -0.148</td>\n",
       "</tr>\n",
       "<tr>\n",
       "  <th>Darkness: Street lighting unknown</th>              <td>   -0.0431</td> <td>    0.032</td> <td>   -1.366</td> <td> 0.172</td> <td>   -0.105</td> <td>    0.019</td>\n",
       "</tr>\n",
       "<tr>\n",
       "  <th>Darkness: Street lights present and lit</th>        <td>   -0.1110</td> <td>    0.009</td> <td>  -12.308</td> <td> 0.000</td> <td>   -0.129</td> <td>   -0.093</td>\n",
       "</tr>\n",
       "<tr>\n",
       "  <th>Darkness: Street lights present but unlit</th>      <td>   -0.1046</td> <td>    0.042</td> <td>   -2.467</td> <td> 0.014</td> <td>   -0.188</td> <td>   -0.021</td>\n",
       "</tr>\n",
       "<tr>\n",
       "  <th>Central refuge</th>                                 <td>   -0.1949</td> <td>    0.022</td> <td>   -8.748</td> <td> 0.000</td> <td>   -0.239</td> <td>   -0.151</td>\n",
       "</tr>\n",
       "<tr>\n",
       "  <th>Footbridge or subway</th>                           <td>   -0.2559</td> <td>    0.055</td> <td>   -4.620</td> <td> 0.000</td> <td>   -0.364</td> <td>   -0.147</td>\n",
       "</tr>\n",
       "<tr>\n",
       "  <th>Pedestrian phase at traffic signal junction</th>    <td>    0.0020</td> <td>    0.014</td> <td>    0.141</td> <td> 0.888</td> <td>   -0.026</td> <td>    0.030</td>\n",
       "</tr>\n",
       "<tr>\n",
       "  <th>Zebra crossing</th>                                 <td>   -0.0136</td> <td>    0.022</td> <td>   -0.629</td> <td> 0.529</td> <td>   -0.056</td> <td>    0.029</td>\n",
       "</tr>\n",
       "<tr>\n",
       "  <th>non-junction pedestrian crossing</th>               <td>   -0.0986</td> <td>    0.014</td> <td>   -6.825</td> <td> 0.000</td> <td>   -0.127</td> <td>   -0.070</td>\n",
       "</tr>\n",
       "<tr>\n",
       "  <th>rtype_Dual carriageway</th>                         <td>    1.9062</td> <td>    0.017</td> <td>  109.842</td> <td> 0.000</td> <td>    1.872</td> <td>    1.940</td>\n",
       "</tr>\n",
       "<tr>\n",
       "  <th>rtype_One way street</th>                           <td>    1.8425</td> <td>    0.025</td> <td>   72.622</td> <td> 0.000</td> <td>    1.793</td> <td>    1.892</td>\n",
       "</tr>\n",
       "<tr>\n",
       "  <th>rtype_Roundabout</th>                               <td>    2.1509</td> <td>    0.019</td> <td>  112.897</td> <td> 0.000</td> <td>    2.114</td> <td>    2.188</td>\n",
       "</tr>\n",
       "<tr>\n",
       "  <th>rtype_Single carriageway</th>                       <td>    1.7796</td> <td>    0.014</td> <td>  128.956</td> <td> 0.000</td> <td>    1.753</td> <td>    1.807</td>\n",
       "</tr>\n",
       "<tr>\n",
       "  <th>rtype_Slip road</th>                                <td>    2.1906</td> <td>    0.035</td> <td>   62.293</td> <td> 0.000</td> <td>    2.122</td> <td>    2.260</td>\n",
       "</tr>\n",
       "<tr>\n",
       "  <th>rtype_Unknown</th>                                  <td>    1.8384</td> <td>    0.045</td> <td>   40.860</td> <td> 0.000</td> <td>    1.750</td> <td>    1.927</td>\n",
       "</tr>\n",
       "<tr>\n",
       "  <th>weekend</th>                                        <td>   -0.0470</td> <td>    0.006</td> <td>   -7.459</td> <td> 0.000</td> <td>   -0.059</td> <td>   -0.035</td>\n",
       "</tr>\n",
       "<tr>\n",
       "  <th>night</th>                                          <td>   -0.1980</td> <td>    0.010</td> <td>  -19.121</td> <td> 0.000</td> <td>   -0.218</td> <td>   -0.178</td>\n",
       "</tr>\n",
       "</table>\n",
       "<table class=\"simpletable\">\n",
       "<tr>\n",
       "  <th>Omnibus:</th>       <td>20478.522</td> <th>  Durbin-Watson:     </th> <td>   0.308</td>\n",
       "</tr>\n",
       "<tr>\n",
       "  <th>Prob(Omnibus):</th>  <td> 0.000</td>   <th>  Jarque-Bera (JB):  </th> <td>2905.705</td>\n",
       "</tr>\n",
       "<tr>\n",
       "  <th>Skew:</th>           <td> 0.106</td>   <th>  Prob(JB):          </th> <td>    0.00</td>\n",
       "</tr>\n",
       "<tr>\n",
       "  <th>Kurtosis:</th>       <td> 1.926</td>   <th>  Cond. No.          </th> <td>2.25e+15</td>\n",
       "</tr>\n",
       "</table><br/><br/>Warnings:<br/>[1] Standard Errors assume that the covariance matrix of the errors is correctly specified.<br/>[2] The smallest eigenvalue is 3.66e-26. This might indicate that there are<br/>strong multicollinearity problems or that the design matrix is singular."
      ],
      "text/plain": [
       "<class 'statsmodels.iolib.summary.Summary'>\n",
       "\"\"\"\n",
       "                            OLS Regression Results                            \n",
       "==============================================================================\n",
       "Dep. Variable:               severity   R-squared:                       0.164\n",
       "Model:                            OLS   Adj. R-squared:                  0.163\n",
       "Method:                 Least Squares   F-statistic:                     316.9\n",
       "Date:                Wed, 21 Aug 2019   Prob (F-statistic):               0.00\n",
       "Time:                        15:51:09   Log-Likelihood:                -65625.\n",
       "No. Observations:               58245   AIC:                         1.313e+05\n",
       "Df Residuals:                   58208   BIC:                         1.317e+05\n",
       "Df Model:                          36                                         \n",
       "Covariance Type:            nonrobust                                         \n",
       "==================================================================================================================\n",
       "                                                     coef    std err          t      P>|t|      [0.025      0.975]\n",
       "------------------------------------------------------------------------------------------------------------------\n",
       "Speed_limit                                       -0.6970      0.024    -29.400      0.000      -0.744      -0.651\n",
       "urb_or_rur                                        -0.1409      0.010    -14.681      0.000      -0.160      -0.122\n",
       "police_presence                                   -0.5351      0.011    -50.474      0.000      -0.556      -0.514\n",
       "hazard_Any animal (except a ridden horse)          0.3955      0.044      8.891      0.000       0.308       0.483\n",
       "hazard_Dislodged vehicle load in carriageway       0.1778      0.097      1.827      0.068      -0.013       0.369\n",
       "hazard_Involvement with previous accident         -0.0462      0.057     -0.809      0.418      -0.158       0.066\n",
       "hazard_Other object in carriageway                 0.0133      0.032      0.413      0.680      -0.050       0.076\n",
       "hazard_Pedestrian in carriageway (not injured)    -0.0095      0.066     -0.144      0.885      -0.139       0.120\n",
       "road_Flood (Over 3cm of water)                     0.0651      0.077      0.844      0.399      -0.086       0.216\n",
       "road_Frost/Ice                                     0.1940      0.024      8.032      0.000       0.147       0.241\n",
       "road_Snow                                          0.2637      0.055      4.832      0.000       0.157       0.371\n",
       "road_Wet/Damp                                     -0.0082      0.009     -0.932      0.351      -0.025       0.009\n",
       "weather_Fine with high winds                       1.1548      0.028     41.948      0.000       1.101       1.209\n",
       "weather_Fine without high winds                    1.2252      0.012     99.670      0.000       1.201       1.249\n",
       "weather_Fog or mist                                1.2581      0.037     33.702      0.000       1.185       1.331\n",
       "weather_Other                                      1.3733      0.024     57.184      0.000       1.326       1.420\n",
       "weather_Raining with high winds                    1.3253      0.028     46.980      0.000       1.270       1.381\n",
       "weather_Raining without high winds                 1.3804      0.016     88.815      0.000       1.350       1.411\n",
       "weather_Snowing with high winds                    1.4459      0.091     15.842      0.000       1.267       1.625\n",
       "weather_Snowing without high winds                 1.3634      0.048     28.488      0.000       1.270       1.457\n",
       "weather_Unknown                                    1.1818      0.026     44.750      0.000       1.130       1.234\n",
       "Darkeness: No street lighting                     -0.1717      0.012    -14.351      0.000      -0.195      -0.148\n",
       "Darkness: Street lighting unknown                 -0.0431      0.032     -1.366      0.172      -0.105       0.019\n",
       "Darkness: Street lights present and lit           -0.1110      0.009    -12.308      0.000      -0.129      -0.093\n",
       "Darkness: Street lights present but unlit         -0.1046      0.042     -2.467      0.014      -0.188      -0.021\n",
       "Central refuge                                    -0.1949      0.022     -8.748      0.000      -0.239      -0.151\n",
       "Footbridge or subway                              -0.2559      0.055     -4.620      0.000      -0.364      -0.147\n",
       "Pedestrian phase at traffic signal junction        0.0020      0.014      0.141      0.888      -0.026       0.030\n",
       "Zebra crossing                                    -0.0136      0.022     -0.629      0.529      -0.056       0.029\n",
       "non-junction pedestrian crossing                  -0.0986      0.014     -6.825      0.000      -0.127      -0.070\n",
       "rtype_Dual carriageway                             1.9062      0.017    109.842      0.000       1.872       1.940\n",
       "rtype_One way street                               1.8425      0.025     72.622      0.000       1.793       1.892\n",
       "rtype_Roundabout                                   2.1509      0.019    112.897      0.000       2.114       2.188\n",
       "rtype_Single carriageway                           1.7796      0.014    128.956      0.000       1.753       1.807\n",
       "rtype_Slip road                                    2.1906      0.035     62.293      0.000       2.122       2.260\n",
       "rtype_Unknown                                      1.8384      0.045     40.860      0.000       1.750       1.927\n",
       "weekend                                           -0.0470      0.006     -7.459      0.000      -0.059      -0.035\n",
       "night                                             -0.1980      0.010    -19.121      0.000      -0.218      -0.178\n",
       "==============================================================================\n",
       "Omnibus:                    20478.522   Durbin-Watson:                   0.308\n",
       "Prob(Omnibus):                  0.000   Jarque-Bera (JB):             2905.705\n",
       "Skew:                           0.106   Prob(JB):                         0.00\n",
       "Kurtosis:                       1.926   Cond. No.                     2.25e+15\n",
       "==============================================================================\n",
       "\n",
       "Warnings:\n",
       "[1] Standard Errors assume that the covariance matrix of the errors is correctly specified.\n",
       "[2] The smallest eigenvalue is 3.66e-26. This might indicate that there are\n",
       "strong multicollinearity problems or that the design matrix is singular.\n",
       "\"\"\""
      ]
     },
     "execution_count": 29,
     "metadata": {},
     "output_type": "execute_result"
    }
   ],
   "source": [
    "results.summary()"
   ]
  },
  {
   "cell_type": "markdown",
   "metadata": {},
   "source": [
    "### We will start by eliminating all the attributes with a p-value higher than 0.05 because we cannot reject the null hypothesis that the related coefficient is 0, meaning that they do not contribute to our target."
   ]
  },
  {
   "cell_type": "code",
   "execution_count": 30,
   "metadata": {},
   "outputs": [],
   "source": [
    "features_to_remove = results.pvalues[results.pvalues > 0.05]"
   ]
  },
  {
   "cell_type": "code",
   "execution_count": 33,
   "metadata": {},
   "outputs": [],
   "source": [
    "df_ols = df_X.drop(features_to_remove.index, axis=1)"
   ]
  },
  {
   "cell_type": "code",
   "execution_count": 50,
   "metadata": {},
   "outputs": [
    {
     "data": {
      "text/plain": [
       "29"
      ]
     },
     "execution_count": 50,
     "metadata": {},
     "output_type": "execute_result"
    }
   ],
   "source": [
    "len(df_ols.columns)"
   ]
  },
  {
   "cell_type": "markdown",
   "metadata": {},
   "source": [
    "### We will now try to use a Linear Regression model to predict the severity of an accident"
   ]
  },
  {
   "cell_type": "markdown",
   "metadata": {},
   "source": [
    "Splitting the data in a stratified fashion"
   ]
  },
  {
   "cell_type": "code",
   "execution_count": 34,
   "metadata": {},
   "outputs": [],
   "source": [
    "X_train, X_test, y_train, y_test = train_test_split(df_ols, target,\n",
    "                                                    stratify=target, \n",
    "                                                    test_size=0.25)"
   ]
  },
  {
   "cell_type": "code",
   "execution_count": 35,
   "metadata": {},
   "outputs": [],
   "source": [
    "lin_model = LinearRegression()"
   ]
  },
  {
   "cell_type": "code",
   "execution_count": 36,
   "metadata": {},
   "outputs": [
    {
     "data": {
      "text/plain": [
       "LinearRegression(copy_X=True, fit_intercept=True, n_jobs=None, normalize=False)"
      ]
     },
     "execution_count": 36,
     "metadata": {},
     "output_type": "execute_result"
    }
   ],
   "source": [
    "lin_model.fit(X_train, y_train)"
   ]
  },
  {
   "cell_type": "code",
   "execution_count": 43,
   "metadata": {},
   "outputs": [],
   "source": [
    "y_pred = np.round(lin_model.predict(X_train))"
   ]
  },
  {
   "cell_type": "code",
   "execution_count": 44,
   "metadata": {},
   "outputs": [
    {
     "data": {
      "text/plain": [
       "0.3908843257102305"
      ]
     },
     "execution_count": 44,
     "metadata": {},
     "output_type": "execute_result"
    }
   ],
   "source": [
    "accuracy_score(y_train, y_pred)"
   ]
  },
  {
   "cell_type": "markdown",
   "metadata": {},
   "source": [
    "The accuracy is really low therefore we will try to eliminate some features and check the model again. We were using 29 features in the previous model and we will try going down to 20. We will therefore pick the 20 features with the lowest p-values."
   ]
  },
  {
   "cell_type": "code",
   "execution_count": 53,
   "metadata": {},
   "outputs": [],
   "source": [
    "features_to_keep = results.pvalues.sort_values().head(20)"
   ]
  },
  {
   "cell_type": "code",
   "execution_count": 55,
   "metadata": {},
   "outputs": [],
   "source": [
    "df_ols = df_ols[features_to_keep.index]"
   ]
  },
  {
   "cell_type": "markdown",
   "metadata": {},
   "source": [
    "Splitting the data again."
   ]
  },
  {
   "cell_type": "code",
   "execution_count": 57,
   "metadata": {},
   "outputs": [],
   "source": [
    "X_train, X_test, y_train, y_test = train_test_split(df_ols, target,\n",
    "                                                    stratify=target, \n",
    "                                                    test_size=0.25)"
   ]
  },
  {
   "cell_type": "code",
   "execution_count": 58,
   "metadata": {},
   "outputs": [],
   "source": [
    "lin_model = LinearRegression()"
   ]
  },
  {
   "cell_type": "code",
   "execution_count": 59,
   "metadata": {},
   "outputs": [
    {
     "data": {
      "text/plain": [
       "LinearRegression(copy_X=True, fit_intercept=True, n_jobs=None, normalize=False)"
      ]
     },
     "execution_count": 59,
     "metadata": {},
     "output_type": "execute_result"
    }
   ],
   "source": [
    "lin_model.fit(X_train, y_train)"
   ]
  },
  {
   "cell_type": "code",
   "execution_count": 60,
   "metadata": {},
   "outputs": [],
   "source": [
    "y_pred = np.round(lin_model.predict(X_train))"
   ]
  },
  {
   "cell_type": "code",
   "execution_count": 61,
   "metadata": {},
   "outputs": [
    {
     "data": {
      "text/plain": [
       "0.3898770688826317"
      ]
     },
     "execution_count": 61,
     "metadata": {},
     "output_type": "execute_result"
    }
   ],
   "source": [
    "accuracy_score(y_train, y_pred)"
   ]
  },
  {
   "cell_type": "markdown",
   "metadata": {},
   "source": [
    "We will now try going down to 15 features."
   ]
  },
  {
   "cell_type": "code",
   "execution_count": 70,
   "metadata": {},
   "outputs": [],
   "source": [
    "features_to_keep = results.pvalues.sort_values().head(15)"
   ]
  },
  {
   "cell_type": "code",
   "execution_count": 71,
   "metadata": {},
   "outputs": [],
   "source": [
    "df_ols = df_ols[features_to_keep.index]"
   ]
  },
  {
   "cell_type": "code",
   "execution_count": 72,
   "metadata": {},
   "outputs": [],
   "source": [
    "X_train, X_test, y_train, y_test = train_test_split(df_ols, target,\n",
    "                                                    stratify=target, \n",
    "                                                    test_size=0.25)"
   ]
  },
  {
   "cell_type": "code",
   "execution_count": 73,
   "metadata": {},
   "outputs": [],
   "source": [
    "lin_model = LinearRegression()"
   ]
  },
  {
   "cell_type": "code",
   "execution_count": 74,
   "metadata": {},
   "outputs": [
    {
     "data": {
      "text/plain": [
       "LinearRegression(copy_X=True, fit_intercept=True, n_jobs=None, normalize=False)"
      ]
     },
     "execution_count": 74,
     "metadata": {},
     "output_type": "execute_result"
    }
   ],
   "source": [
    "lin_model.fit(X_train, y_train)"
   ]
  },
  {
   "cell_type": "code",
   "execution_count": 75,
   "metadata": {},
   "outputs": [],
   "source": [
    "y_pred = np.round(lin_model.predict(X_train))"
   ]
  },
  {
   "cell_type": "code",
   "execution_count": 76,
   "metadata": {},
   "outputs": [
    {
     "data": {
      "text/plain": [
       "0.36895359750932855"
      ]
     },
     "execution_count": 76,
     "metadata": {},
     "output_type": "execute_result"
    }
   ],
   "source": [
    "accuracy_score(y_train, y_pred)"
   ]
  },
  {
   "cell_type": "code",
   "execution_count": 77,
   "metadata": {},
   "outputs": [
    {
     "data": {
      "text/plain": [
       "Index(['rtype_Unknown', 'police_presence', 'rtype_Slip road',\n",
       "       'rtype_Single carriageway', 'rtype_Roundabout', 'rtype_One way street',\n",
       "       'rtype_Dual carriageway', 'weather_Unknown',\n",
       "       'weather_Raining without high winds', 'weather_Raining with high winds',\n",
       "       'weather_Fine with high winds', 'weather_Fine without high winds',\n",
       "       'weather_Other', 'weather_Fog or mist', 'Speed_limit'],\n",
       "      dtype='object')"
      ]
     },
     "execution_count": 77,
     "metadata": {},
     "output_type": "execute_result"
    }
   ],
   "source": [
    "df_ols.columns"
   ]
  },
  {
   "cell_type": "markdown",
   "metadata": {},
   "source": [
    "We will now try with another feature selection method, where we try to understand which features are more related to our target."
   ]
  },
  {
   "cell_type": "code",
   "execution_count": 106,
   "metadata": {},
   "outputs": [
    {
     "data": {
      "text/plain": [
       "<matplotlib.axes._subplots.AxesSubplot at 0x7fef64e2ec88>"
      ]
     },
     "execution_count": 106,
     "metadata": {},
     "output_type": "execute_result"
    },
    {
     "data": {
      "image/png": "[encoded data removed]",
      "text/plain": [
       "<Figure size 1440x1080 with 2 Axes>"
      ]
     },
     "metadata": {
      "needs_background": "light"
     },
     "output_type": "display_data"
    }
   ],
   "source": [
    "plt.figure(figsize=(20,15))\n",
    "sns.heatmap(df_X.groupby('severity').sum().transpose())"
   ]
  },
  {
   "cell_type": "code",
   "execution_count": 107,
   "metadata": {},
   "outputs": [],
   "source": [
    "features = ['Speed_limit', 'urb_or_rur', 'police_presence', 'road_Wet/Damp', \n",
    "            'weather_Raining without high winds', 'Darkeness: No street lighting',\n",
    "            'Darkness: Street lights present and lit', 'Pedestrian phase at traffic signal junction',\n",
    "            'rtype_Dual carriageway', 'rtype_Single carriageway', 'weekend', 'night']"
   ]
  },
  {
   "cell_type": "code",
   "execution_count": 108,
   "metadata": {},
   "outputs": [],
   "source": [
    "df_ols = df_X[features]"
   ]
  },
  {
   "cell_type": "code",
   "execution_count": 109,
   "metadata": {},
   "outputs": [],
   "source": [
    "X_train, X_test, y_train, y_test = train_test_split(df_ols, target,\n",
    "                                                    stratify=target, \n",
    "                                                    test_size=0.25)"
   ]
  },
  {
   "cell_type": "code",
   "execution_count": 110,
   "metadata": {},
   "outputs": [],
   "source": [
    "lin_model = LinearRegression()"
   ]
  },
  {
   "cell_type": "code",
   "execution_count": 111,
   "metadata": {},
   "outputs": [
    {
     "data": {
      "text/plain": [
       "LinearRegression(copy_X=True, fit_intercept=True, n_jobs=None, normalize=False)"
      ]
     },
     "execution_count": 111,
     "metadata": {},
     "output_type": "execute_result"
    }
   ],
   "source": [
    "lin_model.fit(X_train, y_train)"
   ]
  },
  {
   "cell_type": "code",
   "execution_count": 112,
   "metadata": {},
   "outputs": [],
   "source": [
    "y_pred = np.round(lin_model.predict(X_train))"
   ]
  },
  {
   "cell_type": "code",
   "execution_count": 113,
   "metadata": {},
   "outputs": [
    {
     "data": {
      "text/plain": [
       "0.38788544742806125"
      ]
     },
     "execution_count": 113,
     "metadata": {},
     "output_type": "execute_result"
    }
   ],
   "source": [
    "accuracy_score(y_train, y_pred)"
   ]
  },
  {
   "cell_type": "markdown",
   "metadata": {},
   "source": [
    "### Given the low accuracy results we will now try to predict using the K-NN model"
   ]
  },
  {
   "cell_type": "code",
   "execution_count": 115,
   "metadata": {},
   "outputs": [],
   "source": [
    "knn_model = KNeighborsClassifier()"
   ]
  },
  {
   "cell_type": "code",
   "execution_count": 116,
   "metadata": {},
   "outputs": [],
   "source": [
    "param_grid = {'n_neighbors': [2, 5, 10, 25, 50],\n",
    "              'leaf_size': [15, 30, 70, 150]}"
   ]
  },
  {
   "cell_type": "code",
   "execution_count": 117,
   "metadata": {},
   "outputs": [],
   "source": [
    "hyperparameters = RandomizedSearchCV(knn_model, param_grid, n_iter=100, verbose=2, n_jobs=-1)"
   ]
  },
  {
   "cell_type": "code",
   "execution_count": 118,
   "metadata": {},
   "outputs": [
    {
     "name": "stdout",
     "output_type": "stream",
     "text": [
      "Fitting 3 folds for each of 20 candidates, totalling 60 fits\n"
     ]
    },
    {
     "name": "stderr",
     "output_type": "stream",
     "text": [
      "/home/linuxbrew/.linuxbrew/opt/python/lib/python3.7/site-packages/sklearn/model_selection/_split.py:1978: FutureWarning: The default value of cv will change from 3 to 5 in version 0.22. Specify it explicitly to silence this warning.\n",
      "  warnings.warn(CV_WARNING, FutureWarning)\n",
      "/home/linuxbrew/.linuxbrew/opt/python/lib/python3.7/site-packages/sklearn/model_selection/_search.py:266: UserWarning: The total space of parameters 20 is smaller than n_iter=100. Running 20 iterations. For exhaustive searches, use GridSearchCV.\n",
      "  % (grid_size, self.n_iter, grid_size), UserWarning)\n",
      "[Parallel(n_jobs=-1)]: Using backend LokyBackend with 8 concurrent workers.\n",
      "[Parallel(n_jobs=-1)]: Done  25 tasks      | elapsed:  1.3min\n",
      "[Parallel(n_jobs=-1)]: Done  60 out of  60 | elapsed:  2.6min finished\n"
     ]
    },
    {
     "data": {
      "text/plain": [
       "RandomizedSearchCV(cv='warn', error_score='raise-deprecating',\n",
       "                   estimator=KNeighborsClassifier(algorithm='auto',\n",
       "                                                  leaf_size=30,\n",
       "                                                  metric='minkowski',\n",
       "                                                  metric_params=None,\n",
       "                                                  n_jobs=None, n_neighbors=5,\n",
       "                                                  p=2, weights='uniform'),\n",
       "                   iid='warn', n_iter=100, n_jobs=-1,\n",
       "                   param_distributions={'leaf_size': [15, 30, 70, 150],\n",
       "                                        'n_neighbors': [2, 5, 10, 25, 50]},\n",
       "                   pre_dispatch='2*n_jobs', random_state=None, refit=True,\n",
       "                   return_train_score=False, scoring=None, verbose=2)"
      ]
     },
     "execution_count": 118,
     "metadata": {},
     "output_type": "execute_result"
    }
   ],
   "source": [
    "hyperparameters.fit(X_train, y_train)"
   ]
  },
  {
   "cell_type": "code",
   "execution_count": 119,
   "metadata": {},
   "outputs": [
    {
     "data": {
      "text/plain": [
       "{'n_neighbors': 50, 'leaf_size': 30}"
      ]
     },
     "execution_count": 119,
     "metadata": {},
     "output_type": "execute_result"
    }
   ],
   "source": [
    "hyperparameters.best_params_"
   ]
  },
  {
   "cell_type": "markdown",
   "metadata": {},
   "source": [
    "We will now fit the knn model with the best parameters the Randomized search gave us"
   ]
  },
  {
   "cell_type": "code",
   "execution_count": 120,
   "metadata": {},
   "outputs": [],
   "source": [
    "knn_model = KNeighborsClassifier(n_neighbors=50, leaf_size=30)"
   ]
  },
  {
   "cell_type": "code",
   "execution_count": 121,
   "metadata": {},
   "outputs": [
    {
     "data": {
      "text/plain": [
       "KNeighborsClassifier(algorithm='auto', leaf_size=30, metric='minkowski',\n",
       "                     metric_params=None, n_jobs=None, n_neighbors=50, p=2,\n",
       "                     weights='uniform')"
      ]
     },
     "execution_count": 121,
     "metadata": {},
     "output_type": "execute_result"
    }
   ],
   "source": [
    "knn_model.fit(X_train, y_train)"
   ]
  },
  {
   "cell_type": "code",
   "execution_count": 124,
   "metadata": {},
   "outputs": [
    {
     "data": {
      "text/plain": [
       "0.48064464436966325"
      ]
     },
     "execution_count": 124,
     "metadata": {},
     "output_type": "execute_result"
    }
   ],
   "source": [
    "knn_model.score(X_train, y_train)"
   ]
  },
  {
   "cell_type": "markdown",
   "metadata": {},
   "source": [
    "The score has increased compared to our many trials with a Linear Regression and we will therefore try to improve our feature selection and hyperparameters with the KNN model. We will first try again with a previously selected set of features."
   ]
  },
  {
   "cell_type": "code",
   "execution_count": 127,
   "metadata": {},
   "outputs": [],
   "source": [
    "df_ols = df_X.drop(features_to_remove.index, axis=1)"
   ]
  },
  {
   "cell_type": "code",
   "execution_count": 142,
   "metadata": {},
   "outputs": [],
   "source": [
    "df_ols = df_ols.drop('severity', axis=1)"
   ]
  },
  {
   "cell_type": "code",
   "execution_count": 143,
   "metadata": {},
   "outputs": [],
   "source": [
    "X_train, X_test, y_train, y_test = train_test_split(df_ols, target,\n",
    "                                                    stratify=target, \n",
    "                                                    test_size=0.25)"
   ]
  },
  {
   "cell_type": "code",
   "execution_count": 144,
   "metadata": {},
   "outputs": [],
   "source": [
    "knn_model = KNeighborsClassifier()"
   ]
  },
  {
   "cell_type": "code",
   "execution_count": 145,
   "metadata": {},
   "outputs": [],
   "source": [
    "param_grid = {'n_neighbors':[25, 50, 100, 200, 500],\n",
    "              'leaf_size': [15, 30, 70, 150]}"
   ]
  },
  {
   "cell_type": "code",
   "execution_count": 146,
   "metadata": {},
   "outputs": [],
   "source": [
    "hyperparameters = RandomizedSearchCV(knn_model, param_grid, n_iter=100, verbose=2, n_jobs=-1)"
   ]
  },
  {
   "cell_type": "code",
   "execution_count": 147,
   "metadata": {},
   "outputs": [
    {
     "name": "stderr",
     "output_type": "stream",
     "text": [
      "/home/linuxbrew/.linuxbrew/opt/python/lib/python3.7/site-packages/sklearn/model_selection/_split.py:1978: FutureWarning: The default value of cv will change from 3 to 5 in version 0.22. Specify it explicitly to silence this warning.\n",
      "  warnings.warn(CV_WARNING, FutureWarning)\n",
      "/home/linuxbrew/.linuxbrew/opt/python/lib/python3.7/site-packages/sklearn/model_selection/_search.py:266: UserWarning: The total space of parameters 20 is smaller than n_iter=100. Running 20 iterations. For exhaustive searches, use GridSearchCV.\n",
      "  % (grid_size, self.n_iter, grid_size), UserWarning)\n",
      "[Parallel(n_jobs=-1)]: Using backend LokyBackend with 8 concurrent workers.\n"
     ]
    },
    {
     "name": "stdout",
     "output_type": "stream",
     "text": [
      "Fitting 3 folds for each of 20 candidates, totalling 60 fits\n"
     ]
    },
    {
     "name": "stderr",
     "output_type": "stream",
     "text": [
      "[Parallel(n_jobs=-1)]: Done  25 tasks      | elapsed:  4.0min\n",
      "[Parallel(n_jobs=-1)]: Done  60 out of  60 | elapsed:  8.6min finished\n"
     ]
    },
    {
     "data": {
      "text/plain": [
       "RandomizedSearchCV(cv='warn', error_score='raise-deprecating',\n",
       "                   estimator=KNeighborsClassifier(algorithm='auto',\n",
       "                                                  leaf_size=30,\n",
       "                                                  metric='minkowski',\n",
       "                                                  metric_params=None,\n",
       "                                                  n_jobs=None, n_neighbors=5,\n",
       "                                                  p=2, weights='uniform'),\n",
       "                   iid='warn', n_iter=100, n_jobs=-1,\n",
       "                   param_distributions={'leaf_size': [15, 30, 70, 150],\n",
       "                                        'n_neighbors': [25, 50, 100, 200, 500]},\n",
       "                   pre_dispatch='2*n_jobs', random_state=None, refit=True,\n",
       "                   return_train_score=False, scoring=None, verbose=2)"
      ]
     },
     "execution_count": 147,
     "metadata": {},
     "output_type": "execute_result"
    }
   ],
   "source": [
    "hyperparameters.fit(X_train, y_train)"
   ]
  },
  {
   "cell_type": "code",
   "execution_count": 148,
   "metadata": {},
   "outputs": [
    {
     "data": {
      "text/plain": [
       "{'n_neighbors': 200, 'leaf_size': 15}"
      ]
     },
     "execution_count": 148,
     "metadata": {},
     "output_type": "execute_result"
    }
   ],
   "source": [
    "hyperparameters.best_params_"
   ]
  },
  {
   "cell_type": "code",
   "execution_count": 149,
   "metadata": {},
   "outputs": [],
   "source": [
    "knn_model = KNeighborsClassifier(n_neighbors=200, leaf_size=15)"
   ]
  },
  {
   "cell_type": "code",
   "execution_count": 150,
   "metadata": {},
   "outputs": [
    {
     "data": {
      "text/plain": [
       "KNeighborsClassifier(algorithm='auto', leaf_size=15, metric='minkowski',\n",
       "                     metric_params=None, n_jobs=None, n_neighbors=200, p=2,\n",
       "                     weights='uniform')"
      ]
     },
     "execution_count": 150,
     "metadata": {},
     "output_type": "execute_result"
    }
   ],
   "source": [
    "knn_model.fit(X_train, y_train)"
   ]
  },
  {
   "cell_type": "code",
   "execution_count": 151,
   "metadata": {},
   "outputs": [
    {
     "data": {
      "text/plain": [
       "0.48082778197468123"
      ]
     },
     "execution_count": 151,
     "metadata": {},
     "output_type": "execute_result"
    }
   ],
   "source": [
    "knn_model.score(X_train, y_train)"
   ]
  },
  {
   "cell_type": "code",
   "execution_count": 152,
   "metadata": {},
   "outputs": [],
   "source": [
    "y_pred = knn_model.predict(X_test)"
   ]
  },
  {
   "cell_type": "code",
   "execution_count": 153,
   "metadata": {},
   "outputs": [
    {
     "data": {
      "text/plain": [
       "0.48331273176761436"
      ]
     },
     "execution_count": 153,
     "metadata": {},
     "output_type": "execute_result"
    }
   ],
   "source": [
    "accuracy_score(y_test, y_pred)"
   ]
  },
  {
   "cell_type": "code",
   "execution_count": null,
   "metadata": {},
   "outputs": [],
   "source": []
  }
 ],
 "metadata": {
  "kernelspec": {
   "display_name": "Python 3",
   "language": "python",
   "name": "python3"
  },
  "language_info": {
   "codemirror_mode": {
    "name": "ipython",
    "version": 3
   },
   "file_extension": ".py",
   "mimetype": "text/x-python",
   "name": "python",
   "nbconvert_exporter": "python",
   "pygments_lexer": "ipython3",
   "version": "3.7.3"
  }
 },
 "nbformat": 4,
 "nbformat_minor": 2
}
